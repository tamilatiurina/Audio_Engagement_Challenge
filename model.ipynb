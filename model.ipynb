{
 "cells": [
  {
   "cell_type": "code",
   "id": "initial_id",
   "metadata": {
    "collapsed": true,
    "ExecuteTime": {
     "end_time": "2025-10-28T21:58:25.154666Z",
     "start_time": "2025-10-28T21:57:56.024456Z"
    }
   },
   "source": [
    "import re\n",
    "import gc\n",
    "import numpy as np\n",
    "import pandas as pd\n",
    "from scipy import sparse\n",
    "from sklearn.model_selection import train_test_split, KFold, StratifiedKFold\n",
    "from sklearn.feature_extraction.text import TfidfVectorizer\n",
    "from sklearn.metrics import mean_squared_error\n",
    "import lightgbm as lgb\n",
    "\n",
    "RANDOM_STATE = 0\n",
    "\n",
    "# -------------------------\n",
    "# 0. Load\n",
    "# -------------------------\n",
    "train = pd.read_csv(\"train.csv\")\n",
    "test  = pd.read_csv(\"test.csv\")\n",
    "print(\"train:\", train.shape, \"test:\", test.shape)\n"
   ],
   "outputs": [
    {
     "name": "stdout",
     "output_type": "stream",
     "text": [
      "train: (750000, 12) test: (250000, 11)\n"
     ]
    }
   ],
   "execution_count": 1
  },
  {
   "metadata": {
    "ExecuteTime": {
     "end_time": "2025-10-28T21:58:56.163711Z",
     "start_time": "2025-10-28T21:58:25.241311Z"
    }
   },
   "cell_type": "code",
   "source": [
    "\n",
    "# -------------------------\n",
    "# 1. Basic processing and imputation\n",
    "# -------------------------\n",
    "# Pass flags + median (calculated on train)\n",
    "missing_values_columns = [\"Episode_Length_minutes\", \"Number_of_Ads\"]\n",
    "for col in missing_values_columns:\n",
    "    train[f'{col}_IS_IMPUTED'] = train[col].isnull().astype(int)\n",
    "    test[f'{col}_IS_IMPUTED'] = test[col].isnull().astype(int)\n",
    "    med = train[col].median()\n",
    "    train[col] = train[col].fillna(med)\n",
    "    test[col]  = test[col].fillna(med)\n",
    "\n",
    "# Guest/host popularity\n",
    "train['Guest_Popularity_percentage'] = train['Guest_Popularity_percentage'].fillna(0.0)\n",
    "test['Guest_Popularity_percentage'] = test['Guest_Popularity_percentage'].fillna(0.0)\n",
    "train['Host_Popularity_percentage'] = train['Host_Popularity_percentage'].fillna(0.0)\n",
    "test['Host_Popularity_percentage']  = test['Host_Popularity_percentage'].fillna(0.0)\n",
    "\n",
    "# Episode_Title: fill in the blank rows for TF-IDF\n",
    "train['Episode_Title'] = train['Episode_Title'].fillna('missing').astype(str)\n",
    "test['Episode_Title']  = test['Episode_Title'].fillna('missing').astype(str)\n",
    "\n",
    "# -------------------------\n",
    "# 2. Derived features\n",
    "# -------------------------\n",
    "eps = 1e-6\n",
    "for df in (train, test):\n",
    "    df['Popularity_Combined'] = df.get('Host_Popularity_percentage', 0.0) + df.get('Guest_Popularity_percentage', 0.0)\n",
    "    df['Ads_per_Minute'] = df['Number_of_Ads'] / (df['Episode_Length_minutes'] + eps)\n",
    "    df['Ads_per_Minute'] = df['Ads_per_Minute'].fillna(0.0)\n",
    "    df['Len_div_ads'] = df['Episode_Length_minutes'] / (df['Number_of_Ads'] + 1.0)\n",
    "    df['Has_Guest'] = (df.get('Guest_Popularity_percentage', 0.0) > 0).astype(int)\n",
    "\n",
    "# Episode number — more reliable parsing of the last number in the header\n",
    "def extract_episode_number_safe(title):\n",
    "    if pd.isna(title):\n",
    "        return 0\n",
    "    m = re.search(r'(\\d{1,5})\\b(?!.*\\d)', str(title))\n",
    "    return int(m.group(1)) if m else 0\n",
    "\n",
    "train['Episode_Number'] = train['Episode_Title'].apply(extract_episode_number_safe)\n",
    "test['Episode_Number']  = test['Episode_Title'].apply(extract_episode_number_safe)\n",
    "\n",
    "# Ads_Groups: binnin\n",
    "bins = [ -1, 1, 2, 104 ]  # include -1 so 0 goes to first bin\n",
    "labels = ['0-1', '1-2', '2+']\n",
    "train['Ads_Groups'] = pd.cut(train['Number_of_Ads'], bins=bins, labels=labels)\n",
    "test['Ads_Groups']  = pd.cut(test['Number_of_Ads'], bins=bins, labels=labels)\n",
    "train['Ads_Groups'] = train['Ads_Groups'].fillna('0-1')\n",
    "test['Ads_Groups']  = test['Ads_Groups'].fillna('0-1')\n",
    "\n",
    "# -------------------------\n",
    "# 3. Category processing (LabelEncoder for small columns) — LightGBM can handle categorical data, but when using sparse TF-IDF, we will pass a clean matrix,\n",
    "#    so we encode as int for tabular categories and use TF-IDF separately.\n",
    "# -------------------------\n",
    "from sklearn.preprocessing import LabelEncoder\n",
    "categorical_small = ['Genre','Publication_Day','Publication_Time','Episode_Sentiment','Ads_Groups']\n",
    "for col in categorical_small:\n",
    "    if col in train.columns:\n",
    "        le = LabelEncoder()\n",
    "        all_values = pd.concat([train[col].astype(str), test[col].astype(str)], axis=0)\n",
    "        le.fit(all_values)\n",
    "        train[col + '_le'] = le.transform(train[col].astype(str))\n",
    "        test[col + '_le']  = le.transform(test[col].astype(str))\n",
    "\n",
    "# -------------------------\n",
    "# 4. TF-IDF for Episode_Title\n",
    "# -------------------------\n",
    "tfidf = TfidfVectorizer(max_features=3000, ngram_range=(1,2), min_df=3)\n",
    "all_titles = pd.concat([train['Episode_Title'], test['Episode_Title']], axis=0)\n",
    "tfidf.fit(all_titles)\n",
    "X_tfidf_train = tfidf.transform(train['Episode_Title'])\n",
    "X_tfidf_test  = tfidf.transform(test['Episode_Title'])\n",
    "\n",
    "# -------------------------\n",
    "# 5.final features\n",
    "# -------------------------\n",
    "tab_features = [\n",
    "    'Episode_Length_minutes','Episode_Length_minutes_IS_IMPUTED',\n",
    "    'Guest_Popularity_percentage','Host_Popularity_percentage',\n",
    "    'Popularity_Combined','Ads_per_Minute','Len_div_ads',\n",
    "    'Episode_Number','Has_Guest'\n",
    "]\n",
    "# add coded categorical\n",
    "tab_features += [c + '_le' for c in categorical_small]\n",
    "\n",
    "# Ensure that all columns are present\n",
    "tab_features = [c for c in tab_features if c in train.columns]\n",
    "\n",
    "X_tab_train = train[tab_features].reset_index(drop=True)\n",
    "X_tab_test  = test[tab_features].reset_index(drop=True)\n",
    "y = train['Listening_Time_minutes'].values  # target at original scale\n",
    "\n",
    "# -------------------------\n",
    "# 6. Combining sparse TF-IDF and tabular features\n",
    "# -------------------------\n",
    "X_tab_train_sparse = sparse.csr_matrix(X_tab_train.values)\n",
    "X_tab_test_sparse  = sparse.csr_matrix(X_tab_test.values)\n",
    "\n",
    "X_train_full = sparse.hstack([X_tab_train_sparse, X_tfidf_train]).tocsr()\n",
    "X_test_full  = sparse.hstack([X_tab_test_sparse, X_tfidf_test]).tocsr()\n",
    "\n",
    "del X_tab_train_sparse, X_tab_test_sparse, X_tfidf_train, X_tfidf_test\n",
    "gc.collect()\n"
   ],
   "id": "71ee0f485bfaff9d",
   "outputs": [
    {
     "data": {
      "text/plain": [
       "2"
      ]
     },
     "execution_count": 2,
     "metadata": {},
     "output_type": "execute_result"
    }
   ],
   "execution_count": 2
  },
  {
   "metadata": {
    "ExecuteTime": {
     "end_time": "2025-10-28T22:19:43.221385Z",
     "start_time": "2025-10-28T21:59:00.750604Z"
    }
   },
   "cell_type": "code",
   "source": [
    "\n",
    "# -------------------------\n",
    "# 8. LightGBM training on sparse data (without log transformation)\n",
    "# -------------------------\n",
    "bins = int(np.floor(1 + np.log2(X_train_full.shape[0])))\n",
    "y_binned = pd.cut(y, bins=bins, labels=False)\n",
    "kf = KFold(n_splits=20, shuffle=True, random_state=0)\n",
    "\n",
    "rmse_scores = []\n",
    "test_pred = np.zeros(X_test_full.shape[0])\n",
    "\n",
    "for fold, (train_idx, val_idx) in enumerate(kf.split(X_train_full, y_binned)):\n",
    "    X_train, X_val = X_train_full[train_idx], X_train_full[val_idx]\n",
    "    y_train, y_val = y[train_idx], y[val_idx]\n",
    "\n",
    "\n",
    "    model = lgb.LGBMRegressor(\n",
    "        random_state=RANDOM_STATE,\n",
    "        n_estimators=10000,\n",
    "        learning_rate=0.05,\n",
    "        num_leaves=198,\n",
    "        n_jobs=-1,\n",
    "        bagging_fraction= 0.5550229971836489,\n",
    "        bagging_freq=7,\n",
    "        feature_fraction= 0.9450630242019847,\n",
    "        lambda_l1=0.002477866490667525,\n",
    "        lambda_l2=2.3052514525674056e-06,\n",
    "        min_child_samples=20,\n",
    "    )\n",
    "\n",
    "    model.fit(\n",
    "        X_train, y_train,\n",
    "        eval_set=[(X_val, y_val)],\n",
    "        eval_metric='rmse',\n",
    "        callbacks=[lgb.early_stopping(stopping_rounds=100)]\n",
    "    )\n",
    "\n",
    "    preds_valid = model.predict(X_val)\n",
    "    rmse = np.sqrt(mean_squared_error(y_val, preds_valid))\n",
    "    rmse_scores.append(rmse)\n",
    "    print(f\"Fold {fold + 1} RMSE: {rmse:.4f}\")\n",
    "\n",
    "    # accumulate test predictions\n",
    "    test_pred += model.predict(X_test_full, num_iteration=model.best_iteration_) / kf.n_splits\n",
    "\n"
   ],
   "id": "eac5179082c81df2",
   "outputs": [
    {
     "name": "stdout",
     "output_type": "stream",
     "text": [
      "[LightGBM] [Warning] feature_fraction is set=0.9450630242019847, colsample_bytree=1.0 will be ignored. Current value: feature_fraction=0.9450630242019847\n",
      "[LightGBM] [Warning] lambda_l1 is set=0.002477866490667525, reg_alpha=0.0 will be ignored. Current value: lambda_l1=0.002477866490667525\n",
      "[LightGBM] [Warning] lambda_l2 is set=2.3052514525674056e-06, reg_lambda=0.0 will be ignored. Current value: lambda_l2=2.3052514525674056e-06\n",
      "[LightGBM] [Warning] bagging_fraction is set=0.5550229971836489, subsample=1.0 will be ignored. Current value: bagging_fraction=0.5550229971836489\n",
      "[LightGBM] [Warning] bagging_freq is set=7, subsample_freq=0 will be ignored. Current value: bagging_freq=7\n",
      "[LightGBM] [Warning] feature_fraction is set=0.9450630242019847, colsample_bytree=1.0 will be ignored. Current value: feature_fraction=0.9450630242019847\n",
      "[LightGBM] [Warning] lambda_l1 is set=0.002477866490667525, reg_alpha=0.0 will be ignored. Current value: lambda_l1=0.002477866490667525\n",
      "[LightGBM] [Warning] lambda_l2 is set=2.3052514525674056e-06, reg_lambda=0.0 will be ignored. Current value: lambda_l2=2.3052514525674056e-06\n",
      "[LightGBM] [Warning] bagging_fraction is set=0.5550229971836489, subsample=1.0 will be ignored. Current value: bagging_fraction=0.5550229971836489\n",
      "[LightGBM] [Warning] bagging_freq is set=7, subsample_freq=0 will be ignored. Current value: bagging_freq=7\n",
      "[LightGBM] [Info] Auto-choosing col-wise multi-threading, the overhead of testing was 0.096382 seconds.\n",
      "You can set `force_col_wise=true` to remove the overhead.\n",
      "[LightGBM] [Info] Total Bins 2119\n",
      "[LightGBM] [Info] Number of data points in the train set: 712500, number of used features: 197\n",
      "[LightGBM] [Warning] feature_fraction is set=0.9450630242019847, colsample_bytree=1.0 will be ignored. Current value: feature_fraction=0.9450630242019847\n",
      "[LightGBM] [Warning] lambda_l1 is set=0.002477866490667525, reg_alpha=0.0 will be ignored. Current value: lambda_l1=0.002477866490667525\n",
      "[LightGBM] [Warning] lambda_l2 is set=2.3052514525674056e-06, reg_lambda=0.0 will be ignored. Current value: lambda_l2=2.3052514525674056e-06\n",
      "[LightGBM] [Warning] bagging_fraction is set=0.5550229971836489, subsample=1.0 will be ignored. Current value: bagging_fraction=0.5550229971836489\n",
      "[LightGBM] [Warning] bagging_freq is set=7, subsample_freq=0 will be ignored. Current value: bagging_freq=7\n",
      "[LightGBM] [Info] Start training from score 45.447135\n",
      "Training until validation scores don't improve for 100 rounds\n",
      "Early stopping, best iteration is:\n",
      "[1918]\tvalid_0's rmse: 12.8045\tvalid_0's l2: 163.955\n"
     ]
    },
    {
     "name": "stderr",
     "output_type": "stream",
     "text": [
      "C:\\Users\\Home\\PycharmProjects\\DSC-project\\.venv\\Lib\\site-packages\\sklearn\\utils\\validation.py:2749: UserWarning: X does not have valid feature names, but LGBMRegressor was fitted with feature names\n",
      "  warnings.warn(\n"
     ]
    },
    {
     "name": "stdout",
     "output_type": "stream",
     "text": [
      "[LightGBM] [Warning] feature_fraction is set=0.9450630242019847, colsample_bytree=1.0 will be ignored. Current value: feature_fraction=0.9450630242019847\n",
      "[LightGBM] [Warning] lambda_l1 is set=0.002477866490667525, reg_alpha=0.0 will be ignored. Current value: lambda_l1=0.002477866490667525\n",
      "[LightGBM] [Warning] lambda_l2 is set=2.3052514525674056e-06, reg_lambda=0.0 will be ignored. Current value: lambda_l2=2.3052514525674056e-06\n",
      "[LightGBM] [Warning] bagging_fraction is set=0.5550229971836489, subsample=1.0 will be ignored. Current value: bagging_fraction=0.5550229971836489\n",
      "[LightGBM] [Warning] bagging_freq is set=7, subsample_freq=0 will be ignored. Current value: bagging_freq=7\n",
      "Fold 1 RMSE: 12.8045\n",
      "[LightGBM] [Warning] feature_fraction is set=0.9450630242019847, colsample_bytree=1.0 will be ignored. Current value: feature_fraction=0.9450630242019847\n",
      "[LightGBM] [Warning] lambda_l1 is set=0.002477866490667525, reg_alpha=0.0 will be ignored. Current value: lambda_l1=0.002477866490667525\n",
      "[LightGBM] [Warning] lambda_l2 is set=2.3052514525674056e-06, reg_lambda=0.0 will be ignored. Current value: lambda_l2=2.3052514525674056e-06\n",
      "[LightGBM] [Warning] bagging_fraction is set=0.5550229971836489, subsample=1.0 will be ignored. Current value: bagging_fraction=0.5550229971836489\n",
      "[LightGBM] [Warning] bagging_freq is set=7, subsample_freq=0 will be ignored. Current value: bagging_freq=7\n"
     ]
    },
    {
     "name": "stderr",
     "output_type": "stream",
     "text": [
      "C:\\Users\\Home\\PycharmProjects\\DSC-project\\.venv\\Lib\\site-packages\\sklearn\\utils\\validation.py:2749: UserWarning: X does not have valid feature names, but LGBMRegressor was fitted with feature names\n",
      "  warnings.warn(\n"
     ]
    },
    {
     "name": "stdout",
     "output_type": "stream",
     "text": [
      "[LightGBM] [Warning] feature_fraction is set=0.9450630242019847, colsample_bytree=1.0 will be ignored. Current value: feature_fraction=0.9450630242019847\n",
      "[LightGBM] [Warning] lambda_l1 is set=0.002477866490667525, reg_alpha=0.0 will be ignored. Current value: lambda_l1=0.002477866490667525\n",
      "[LightGBM] [Warning] lambda_l2 is set=2.3052514525674056e-06, reg_lambda=0.0 will be ignored. Current value: lambda_l2=2.3052514525674056e-06\n",
      "[LightGBM] [Warning] bagging_fraction is set=0.5550229971836489, subsample=1.0 will be ignored. Current value: bagging_fraction=0.5550229971836489\n",
      "[LightGBM] [Warning] bagging_freq is set=7, subsample_freq=0 will be ignored. Current value: bagging_freq=7\n",
      "[LightGBM] [Warning] feature_fraction is set=0.9450630242019847, colsample_bytree=1.0 will be ignored. Current value: feature_fraction=0.9450630242019847\n",
      "[LightGBM] [Warning] lambda_l1 is set=0.002477866490667525, reg_alpha=0.0 will be ignored. Current value: lambda_l1=0.002477866490667525\n",
      "[LightGBM] [Warning] lambda_l2 is set=2.3052514525674056e-06, reg_lambda=0.0 will be ignored. Current value: lambda_l2=2.3052514525674056e-06\n",
      "[LightGBM] [Warning] bagging_fraction is set=0.5550229971836489, subsample=1.0 will be ignored. Current value: bagging_fraction=0.5550229971836489\n",
      "[LightGBM] [Warning] bagging_freq is set=7, subsample_freq=0 will be ignored. Current value: bagging_freq=7\n",
      "[LightGBM] [Info] Auto-choosing row-wise multi-threading, the overhead of testing was 0.015166 seconds.\n",
      "You can set `force_row_wise=true` to remove the overhead.\n",
      "And if memory is not enough, you can set `force_col_wise=true`.\n",
      "[LightGBM] [Info] Total Bins 2119\n",
      "[LightGBM] [Info] Number of data points in the train set: 712500, number of used features: 197\n",
      "[LightGBM] [Warning] feature_fraction is set=0.9450630242019847, colsample_bytree=1.0 will be ignored. Current value: feature_fraction=0.9450630242019847\n",
      "[LightGBM] [Warning] lambda_l1 is set=0.002477866490667525, reg_alpha=0.0 will be ignored. Current value: lambda_l1=0.002477866490667525\n",
      "[LightGBM] [Warning] lambda_l2 is set=2.3052514525674056e-06, reg_lambda=0.0 will be ignored. Current value: lambda_l2=2.3052514525674056e-06\n",
      "[LightGBM] [Warning] bagging_fraction is set=0.5550229971836489, subsample=1.0 will be ignored. Current value: bagging_fraction=0.5550229971836489\n",
      "[LightGBM] [Warning] bagging_freq is set=7, subsample_freq=0 will be ignored. Current value: bagging_freq=7\n",
      "[LightGBM] [Info] Start training from score 45.443045\n",
      "Training until validation scores don't improve for 100 rounds\n",
      "Early stopping, best iteration is:\n",
      "[1245]\tvalid_0's rmse: 12.8485\tvalid_0's l2: 165.085\n"
     ]
    },
    {
     "name": "stderr",
     "output_type": "stream",
     "text": [
      "C:\\Users\\Home\\PycharmProjects\\DSC-project\\.venv\\Lib\\site-packages\\sklearn\\utils\\validation.py:2749: UserWarning: X does not have valid feature names, but LGBMRegressor was fitted with feature names\n",
      "  warnings.warn(\n"
     ]
    },
    {
     "name": "stdout",
     "output_type": "stream",
     "text": [
      "[LightGBM] [Warning] feature_fraction is set=0.9450630242019847, colsample_bytree=1.0 will be ignored. Current value: feature_fraction=0.9450630242019847\n",
      "[LightGBM] [Warning] lambda_l1 is set=0.002477866490667525, reg_alpha=0.0 will be ignored. Current value: lambda_l1=0.002477866490667525\n",
      "[LightGBM] [Warning] lambda_l2 is set=2.3052514525674056e-06, reg_lambda=0.0 will be ignored. Current value: lambda_l2=2.3052514525674056e-06\n",
      "[LightGBM] [Warning] bagging_fraction is set=0.5550229971836489, subsample=1.0 will be ignored. Current value: bagging_fraction=0.5550229971836489\n",
      "[LightGBM] [Warning] bagging_freq is set=7, subsample_freq=0 will be ignored. Current value: bagging_freq=7\n",
      "Fold 2 RMSE: 12.8485\n",
      "[LightGBM] [Warning] feature_fraction is set=0.9450630242019847, colsample_bytree=1.0 will be ignored. Current value: feature_fraction=0.9450630242019847\n",
      "[LightGBM] [Warning] lambda_l1 is set=0.002477866490667525, reg_alpha=0.0 will be ignored. Current value: lambda_l1=0.002477866490667525\n",
      "[LightGBM] [Warning] lambda_l2 is set=2.3052514525674056e-06, reg_lambda=0.0 will be ignored. Current value: lambda_l2=2.3052514525674056e-06\n",
      "[LightGBM] [Warning] bagging_fraction is set=0.5550229971836489, subsample=1.0 will be ignored. Current value: bagging_fraction=0.5550229971836489\n",
      "[LightGBM] [Warning] bagging_freq is set=7, subsample_freq=0 will be ignored. Current value: bagging_freq=7\n"
     ]
    },
    {
     "name": "stderr",
     "output_type": "stream",
     "text": [
      "C:\\Users\\Home\\PycharmProjects\\DSC-project\\.venv\\Lib\\site-packages\\sklearn\\utils\\validation.py:2749: UserWarning: X does not have valid feature names, but LGBMRegressor was fitted with feature names\n",
      "  warnings.warn(\n"
     ]
    },
    {
     "name": "stdout",
     "output_type": "stream",
     "text": [
      "[LightGBM] [Warning] feature_fraction is set=0.9450630242019847, colsample_bytree=1.0 will be ignored. Current value: feature_fraction=0.9450630242019847\n",
      "[LightGBM] [Warning] lambda_l1 is set=0.002477866490667525, reg_alpha=0.0 will be ignored. Current value: lambda_l1=0.002477866490667525\n",
      "[LightGBM] [Warning] lambda_l2 is set=2.3052514525674056e-06, reg_lambda=0.0 will be ignored. Current value: lambda_l2=2.3052514525674056e-06\n",
      "[LightGBM] [Warning] bagging_fraction is set=0.5550229971836489, subsample=1.0 will be ignored. Current value: bagging_fraction=0.5550229971836489\n",
      "[LightGBM] [Warning] bagging_freq is set=7, subsample_freq=0 will be ignored. Current value: bagging_freq=7\n",
      "[LightGBM] [Warning] feature_fraction is set=0.9450630242019847, colsample_bytree=1.0 will be ignored. Current value: feature_fraction=0.9450630242019847\n",
      "[LightGBM] [Warning] lambda_l1 is set=0.002477866490667525, reg_alpha=0.0 will be ignored. Current value: lambda_l1=0.002477866490667525\n",
      "[LightGBM] [Warning] lambda_l2 is set=2.3052514525674056e-06, reg_lambda=0.0 will be ignored. Current value: lambda_l2=2.3052514525674056e-06\n",
      "[LightGBM] [Warning] bagging_fraction is set=0.5550229971836489, subsample=1.0 will be ignored. Current value: bagging_fraction=0.5550229971836489\n",
      "[LightGBM] [Warning] bagging_freq is set=7, subsample_freq=0 will be ignored. Current value: bagging_freq=7\n",
      "[LightGBM] [Info] Auto-choosing row-wise multi-threading, the overhead of testing was 0.014877 seconds.\n",
      "You can set `force_row_wise=true` to remove the overhead.\n",
      "And if memory is not enough, you can set `force_col_wise=true`.\n",
      "[LightGBM] [Info] Total Bins 2119\n",
      "[LightGBM] [Info] Number of data points in the train set: 712500, number of used features: 197\n",
      "[LightGBM] [Warning] feature_fraction is set=0.9450630242019847, colsample_bytree=1.0 will be ignored. Current value: feature_fraction=0.9450630242019847\n",
      "[LightGBM] [Warning] lambda_l1 is set=0.002477866490667525, reg_alpha=0.0 will be ignored. Current value: lambda_l1=0.002477866490667525\n",
      "[LightGBM] [Warning] lambda_l2 is set=2.3052514525674056e-06, reg_lambda=0.0 will be ignored. Current value: lambda_l2=2.3052514525674056e-06\n",
      "[LightGBM] [Warning] bagging_fraction is set=0.5550229971836489, subsample=1.0 will be ignored. Current value: bagging_fraction=0.5550229971836489\n",
      "[LightGBM] [Warning] bagging_freq is set=7, subsample_freq=0 will be ignored. Current value: bagging_freq=7\n",
      "[LightGBM] [Info] Start training from score 45.444124\n",
      "Training until validation scores don't improve for 100 rounds\n",
      "Early stopping, best iteration is:\n",
      "[1373]\tvalid_0's rmse: 12.7137\tvalid_0's l2: 161.638\n"
     ]
    },
    {
     "name": "stderr",
     "output_type": "stream",
     "text": [
      "C:\\Users\\Home\\PycharmProjects\\DSC-project\\.venv\\Lib\\site-packages\\sklearn\\utils\\validation.py:2749: UserWarning: X does not have valid feature names, but LGBMRegressor was fitted with feature names\n",
      "  warnings.warn(\n"
     ]
    },
    {
     "name": "stdout",
     "output_type": "stream",
     "text": [
      "[LightGBM] [Warning] feature_fraction is set=0.9450630242019847, colsample_bytree=1.0 will be ignored. Current value: feature_fraction=0.9450630242019847\n",
      "[LightGBM] [Warning] lambda_l1 is set=0.002477866490667525, reg_alpha=0.0 will be ignored. Current value: lambda_l1=0.002477866490667525\n",
      "[LightGBM] [Warning] lambda_l2 is set=2.3052514525674056e-06, reg_lambda=0.0 will be ignored. Current value: lambda_l2=2.3052514525674056e-06\n",
      "[LightGBM] [Warning] bagging_fraction is set=0.5550229971836489, subsample=1.0 will be ignored. Current value: bagging_fraction=0.5550229971836489\n",
      "[LightGBM] [Warning] bagging_freq is set=7, subsample_freq=0 will be ignored. Current value: bagging_freq=7\n",
      "Fold 3 RMSE: 12.7137\n",
      "[LightGBM] [Warning] feature_fraction is set=0.9450630242019847, colsample_bytree=1.0 will be ignored. Current value: feature_fraction=0.9450630242019847\n",
      "[LightGBM] [Warning] lambda_l1 is set=0.002477866490667525, reg_alpha=0.0 will be ignored. Current value: lambda_l1=0.002477866490667525\n",
      "[LightGBM] [Warning] lambda_l2 is set=2.3052514525674056e-06, reg_lambda=0.0 will be ignored. Current value: lambda_l2=2.3052514525674056e-06\n",
      "[LightGBM] [Warning] bagging_fraction is set=0.5550229971836489, subsample=1.0 will be ignored. Current value: bagging_fraction=0.5550229971836489\n",
      "[LightGBM] [Warning] bagging_freq is set=7, subsample_freq=0 will be ignored. Current value: bagging_freq=7\n"
     ]
    },
    {
     "name": "stderr",
     "output_type": "stream",
     "text": [
      "C:\\Users\\Home\\PycharmProjects\\DSC-project\\.venv\\Lib\\site-packages\\sklearn\\utils\\validation.py:2749: UserWarning: X does not have valid feature names, but LGBMRegressor was fitted with feature names\n",
      "  warnings.warn(\n"
     ]
    },
    {
     "name": "stdout",
     "output_type": "stream",
     "text": [
      "[LightGBM] [Warning] feature_fraction is set=0.9450630242019847, colsample_bytree=1.0 will be ignored. Current value: feature_fraction=0.9450630242019847\n",
      "[LightGBM] [Warning] lambda_l1 is set=0.002477866490667525, reg_alpha=0.0 will be ignored. Current value: lambda_l1=0.002477866490667525\n",
      "[LightGBM] [Warning] lambda_l2 is set=2.3052514525674056e-06, reg_lambda=0.0 will be ignored. Current value: lambda_l2=2.3052514525674056e-06\n",
      "[LightGBM] [Warning] bagging_fraction is set=0.5550229971836489, subsample=1.0 will be ignored. Current value: bagging_fraction=0.5550229971836489\n",
      "[LightGBM] [Warning] bagging_freq is set=7, subsample_freq=0 will be ignored. Current value: bagging_freq=7\n",
      "[LightGBM] [Warning] feature_fraction is set=0.9450630242019847, colsample_bytree=1.0 will be ignored. Current value: feature_fraction=0.9450630242019847\n",
      "[LightGBM] [Warning] lambda_l1 is set=0.002477866490667525, reg_alpha=0.0 will be ignored. Current value: lambda_l1=0.002477866490667525\n",
      "[LightGBM] [Warning] lambda_l2 is set=2.3052514525674056e-06, reg_lambda=0.0 will be ignored. Current value: lambda_l2=2.3052514525674056e-06\n",
      "[LightGBM] [Warning] bagging_fraction is set=0.5550229971836489, subsample=1.0 will be ignored. Current value: bagging_fraction=0.5550229971836489\n",
      "[LightGBM] [Warning] bagging_freq is set=7, subsample_freq=0 will be ignored. Current value: bagging_freq=7\n",
      "[LightGBM] [Info] Auto-choosing row-wise multi-threading, the overhead of testing was 0.017873 seconds.\n",
      "You can set `force_row_wise=true` to remove the overhead.\n",
      "And if memory is not enough, you can set `force_col_wise=true`.\n",
      "[LightGBM] [Info] Total Bins 2119\n",
      "[LightGBM] [Info] Number of data points in the train set: 712500, number of used features: 197\n",
      "[LightGBM] [Warning] feature_fraction is set=0.9450630242019847, colsample_bytree=1.0 will be ignored. Current value: feature_fraction=0.9450630242019847\n",
      "[LightGBM] [Warning] lambda_l1 is set=0.002477866490667525, reg_alpha=0.0 will be ignored. Current value: lambda_l1=0.002477866490667525\n",
      "[LightGBM] [Warning] lambda_l2 is set=2.3052514525674056e-06, reg_lambda=0.0 will be ignored. Current value: lambda_l2=2.3052514525674056e-06\n",
      "[LightGBM] [Warning] bagging_fraction is set=0.5550229971836489, subsample=1.0 will be ignored. Current value: bagging_fraction=0.5550229971836489\n",
      "[LightGBM] [Warning] bagging_freq is set=7, subsample_freq=0 will be ignored. Current value: bagging_freq=7\n",
      "[LightGBM] [Info] Start training from score 45.430297\n",
      "Training until validation scores don't improve for 100 rounds\n",
      "Early stopping, best iteration is:\n",
      "[1484]\tvalid_0's rmse: 12.9337\tvalid_0's l2: 167.282\n"
     ]
    },
    {
     "name": "stderr",
     "output_type": "stream",
     "text": [
      "C:\\Users\\Home\\PycharmProjects\\DSC-project\\.venv\\Lib\\site-packages\\sklearn\\utils\\validation.py:2749: UserWarning: X does not have valid feature names, but LGBMRegressor was fitted with feature names\n",
      "  warnings.warn(\n"
     ]
    },
    {
     "name": "stdout",
     "output_type": "stream",
     "text": [
      "[LightGBM] [Warning] feature_fraction is set=0.9450630242019847, colsample_bytree=1.0 will be ignored. Current value: feature_fraction=0.9450630242019847\n",
      "[LightGBM] [Warning] lambda_l1 is set=0.002477866490667525, reg_alpha=0.0 will be ignored. Current value: lambda_l1=0.002477866490667525\n",
      "[LightGBM] [Warning] lambda_l2 is set=2.3052514525674056e-06, reg_lambda=0.0 will be ignored. Current value: lambda_l2=2.3052514525674056e-06\n",
      "[LightGBM] [Warning] bagging_fraction is set=0.5550229971836489, subsample=1.0 will be ignored. Current value: bagging_fraction=0.5550229971836489\n",
      "[LightGBM] [Warning] bagging_freq is set=7, subsample_freq=0 will be ignored. Current value: bagging_freq=7\n",
      "Fold 4 RMSE: 12.9337\n",
      "[LightGBM] [Warning] feature_fraction is set=0.9450630242019847, colsample_bytree=1.0 will be ignored. Current value: feature_fraction=0.9450630242019847\n",
      "[LightGBM] [Warning] lambda_l1 is set=0.002477866490667525, reg_alpha=0.0 will be ignored. Current value: lambda_l1=0.002477866490667525\n",
      "[LightGBM] [Warning] lambda_l2 is set=2.3052514525674056e-06, reg_lambda=0.0 will be ignored. Current value: lambda_l2=2.3052514525674056e-06\n",
      "[LightGBM] [Warning] bagging_fraction is set=0.5550229971836489, subsample=1.0 will be ignored. Current value: bagging_fraction=0.5550229971836489\n",
      "[LightGBM] [Warning] bagging_freq is set=7, subsample_freq=0 will be ignored. Current value: bagging_freq=7\n"
     ]
    },
    {
     "name": "stderr",
     "output_type": "stream",
     "text": [
      "C:\\Users\\Home\\PycharmProjects\\DSC-project\\.venv\\Lib\\site-packages\\sklearn\\utils\\validation.py:2749: UserWarning: X does not have valid feature names, but LGBMRegressor was fitted with feature names\n",
      "  warnings.warn(\n"
     ]
    },
    {
     "name": "stdout",
     "output_type": "stream",
     "text": [
      "[LightGBM] [Warning] feature_fraction is set=0.9450630242019847, colsample_bytree=1.0 will be ignored. Current value: feature_fraction=0.9450630242019847\n",
      "[LightGBM] [Warning] lambda_l1 is set=0.002477866490667525, reg_alpha=0.0 will be ignored. Current value: lambda_l1=0.002477866490667525\n",
      "[LightGBM] [Warning] lambda_l2 is set=2.3052514525674056e-06, reg_lambda=0.0 will be ignored. Current value: lambda_l2=2.3052514525674056e-06\n",
      "[LightGBM] [Warning] bagging_fraction is set=0.5550229971836489, subsample=1.0 will be ignored. Current value: bagging_fraction=0.5550229971836489\n",
      "[LightGBM] [Warning] bagging_freq is set=7, subsample_freq=0 will be ignored. Current value: bagging_freq=7\n",
      "[LightGBM] [Warning] feature_fraction is set=0.9450630242019847, colsample_bytree=1.0 will be ignored. Current value: feature_fraction=0.9450630242019847\n",
      "[LightGBM] [Warning] lambda_l1 is set=0.002477866490667525, reg_alpha=0.0 will be ignored. Current value: lambda_l1=0.002477866490667525\n",
      "[LightGBM] [Warning] lambda_l2 is set=2.3052514525674056e-06, reg_lambda=0.0 will be ignored. Current value: lambda_l2=2.3052514525674056e-06\n",
      "[LightGBM] [Warning] bagging_fraction is set=0.5550229971836489, subsample=1.0 will be ignored. Current value: bagging_fraction=0.5550229971836489\n",
      "[LightGBM] [Warning] bagging_freq is set=7, subsample_freq=0 will be ignored. Current value: bagging_freq=7\n",
      "[LightGBM] [Info] Auto-choosing row-wise multi-threading, the overhead of testing was 0.014719 seconds.\n",
      "You can set `force_row_wise=true` to remove the overhead.\n",
      "And if memory is not enough, you can set `force_col_wise=true`.\n",
      "[LightGBM] [Info] Total Bins 2119\n",
      "[LightGBM] [Info] Number of data points in the train set: 712500, number of used features: 197\n",
      "[LightGBM] [Warning] feature_fraction is set=0.9450630242019847, colsample_bytree=1.0 will be ignored. Current value: feature_fraction=0.9450630242019847\n",
      "[LightGBM] [Warning] lambda_l1 is set=0.002477866490667525, reg_alpha=0.0 will be ignored. Current value: lambda_l1=0.002477866490667525\n",
      "[LightGBM] [Warning] lambda_l2 is set=2.3052514525674056e-06, reg_lambda=0.0 will be ignored. Current value: lambda_l2=2.3052514525674056e-06\n",
      "[LightGBM] [Warning] bagging_fraction is set=0.5550229971836489, subsample=1.0 will be ignored. Current value: bagging_fraction=0.5550229971836489\n",
      "[LightGBM] [Warning] bagging_freq is set=7, subsample_freq=0 will be ignored. Current value: bagging_freq=7\n",
      "[LightGBM] [Info] Start training from score 45.436912\n",
      "Training until validation scores don't improve for 100 rounds\n",
      "Early stopping, best iteration is:\n",
      "[1117]\tvalid_0's rmse: 12.8286\tvalid_0's l2: 164.574\n"
     ]
    },
    {
     "name": "stderr",
     "output_type": "stream",
     "text": [
      "C:\\Users\\Home\\PycharmProjects\\DSC-project\\.venv\\Lib\\site-packages\\sklearn\\utils\\validation.py:2749: UserWarning: X does not have valid feature names, but LGBMRegressor was fitted with feature names\n",
      "  warnings.warn(\n"
     ]
    },
    {
     "name": "stdout",
     "output_type": "stream",
     "text": [
      "[LightGBM] [Warning] feature_fraction is set=0.9450630242019847, colsample_bytree=1.0 will be ignored. Current value: feature_fraction=0.9450630242019847\n",
      "[LightGBM] [Warning] lambda_l1 is set=0.002477866490667525, reg_alpha=0.0 will be ignored. Current value: lambda_l1=0.002477866490667525\n",
      "[LightGBM] [Warning] lambda_l2 is set=2.3052514525674056e-06, reg_lambda=0.0 will be ignored. Current value: lambda_l2=2.3052514525674056e-06\n",
      "[LightGBM] [Warning] bagging_fraction is set=0.5550229971836489, subsample=1.0 will be ignored. Current value: bagging_fraction=0.5550229971836489\n",
      "[LightGBM] [Warning] bagging_freq is set=7, subsample_freq=0 will be ignored. Current value: bagging_freq=7\n",
      "Fold 5 RMSE: 12.8286\n",
      "[LightGBM] [Warning] feature_fraction is set=0.9450630242019847, colsample_bytree=1.0 will be ignored. Current value: feature_fraction=0.9450630242019847\n",
      "[LightGBM] [Warning] lambda_l1 is set=0.002477866490667525, reg_alpha=0.0 will be ignored. Current value: lambda_l1=0.002477866490667525\n",
      "[LightGBM] [Warning] lambda_l2 is set=2.3052514525674056e-06, reg_lambda=0.0 will be ignored. Current value: lambda_l2=2.3052514525674056e-06\n",
      "[LightGBM] [Warning] bagging_fraction is set=0.5550229971836489, subsample=1.0 will be ignored. Current value: bagging_fraction=0.5550229971836489\n",
      "[LightGBM] [Warning] bagging_freq is set=7, subsample_freq=0 will be ignored. Current value: bagging_freq=7\n"
     ]
    },
    {
     "name": "stderr",
     "output_type": "stream",
     "text": [
      "C:\\Users\\Home\\PycharmProjects\\DSC-project\\.venv\\Lib\\site-packages\\sklearn\\utils\\validation.py:2749: UserWarning: X does not have valid feature names, but LGBMRegressor was fitted with feature names\n",
      "  warnings.warn(\n"
     ]
    },
    {
     "name": "stdout",
     "output_type": "stream",
     "text": [
      "[LightGBM] [Warning] feature_fraction is set=0.9450630242019847, colsample_bytree=1.0 will be ignored. Current value: feature_fraction=0.9450630242019847\n",
      "[LightGBM] [Warning] lambda_l1 is set=0.002477866490667525, reg_alpha=0.0 will be ignored. Current value: lambda_l1=0.002477866490667525\n",
      "[LightGBM] [Warning] lambda_l2 is set=2.3052514525674056e-06, reg_lambda=0.0 will be ignored. Current value: lambda_l2=2.3052514525674056e-06\n",
      "[LightGBM] [Warning] bagging_fraction is set=0.5550229971836489, subsample=1.0 will be ignored. Current value: bagging_fraction=0.5550229971836489\n",
      "[LightGBM] [Warning] bagging_freq is set=7, subsample_freq=0 will be ignored. Current value: bagging_freq=7\n",
      "[LightGBM] [Warning] feature_fraction is set=0.9450630242019847, colsample_bytree=1.0 will be ignored. Current value: feature_fraction=0.9450630242019847\n",
      "[LightGBM] [Warning] lambda_l1 is set=0.002477866490667525, reg_alpha=0.0 will be ignored. Current value: lambda_l1=0.002477866490667525\n",
      "[LightGBM] [Warning] lambda_l2 is set=2.3052514525674056e-06, reg_lambda=0.0 will be ignored. Current value: lambda_l2=2.3052514525674056e-06\n",
      "[LightGBM] [Warning] bagging_fraction is set=0.5550229971836489, subsample=1.0 will be ignored. Current value: bagging_fraction=0.5550229971836489\n",
      "[LightGBM] [Warning] bagging_freq is set=7, subsample_freq=0 will be ignored. Current value: bagging_freq=7\n",
      "[LightGBM] [Info] Auto-choosing row-wise multi-threading, the overhead of testing was 0.020154 seconds.\n",
      "You can set `force_row_wise=true` to remove the overhead.\n",
      "And if memory is not enough, you can set `force_col_wise=true`.\n",
      "[LightGBM] [Info] Total Bins 2119\n",
      "[LightGBM] [Info] Number of data points in the train set: 712500, number of used features: 197\n",
      "[LightGBM] [Warning] feature_fraction is set=0.9450630242019847, colsample_bytree=1.0 will be ignored. Current value: feature_fraction=0.9450630242019847\n",
      "[LightGBM] [Warning] lambda_l1 is set=0.002477866490667525, reg_alpha=0.0 will be ignored. Current value: lambda_l1=0.002477866490667525\n",
      "[LightGBM] [Warning] lambda_l2 is set=2.3052514525674056e-06, reg_lambda=0.0 will be ignored. Current value: lambda_l2=2.3052514525674056e-06\n",
      "[LightGBM] [Warning] bagging_fraction is set=0.5550229971836489, subsample=1.0 will be ignored. Current value: bagging_fraction=0.5550229971836489\n",
      "[LightGBM] [Warning] bagging_freq is set=7, subsample_freq=0 will be ignored. Current value: bagging_freq=7\n",
      "[LightGBM] [Info] Start training from score 45.431790\n",
      "Training until validation scores don't improve for 100 rounds\n",
      "Early stopping, best iteration is:\n",
      "[1047]\tvalid_0's rmse: 12.8228\tvalid_0's l2: 164.424\n"
     ]
    },
    {
     "name": "stderr",
     "output_type": "stream",
     "text": [
      "C:\\Users\\Home\\PycharmProjects\\DSC-project\\.venv\\Lib\\site-packages\\sklearn\\utils\\validation.py:2749: UserWarning: X does not have valid feature names, but LGBMRegressor was fitted with feature names\n",
      "  warnings.warn(\n"
     ]
    },
    {
     "name": "stdout",
     "output_type": "stream",
     "text": [
      "[LightGBM] [Warning] feature_fraction is set=0.9450630242019847, colsample_bytree=1.0 will be ignored. Current value: feature_fraction=0.9450630242019847\n",
      "[LightGBM] [Warning] lambda_l1 is set=0.002477866490667525, reg_alpha=0.0 will be ignored. Current value: lambda_l1=0.002477866490667525\n",
      "[LightGBM] [Warning] lambda_l2 is set=2.3052514525674056e-06, reg_lambda=0.0 will be ignored. Current value: lambda_l2=2.3052514525674056e-06\n",
      "[LightGBM] [Warning] bagging_fraction is set=0.5550229971836489, subsample=1.0 will be ignored. Current value: bagging_fraction=0.5550229971836489\n",
      "[LightGBM] [Warning] bagging_freq is set=7, subsample_freq=0 will be ignored. Current value: bagging_freq=7\n",
      "Fold 6 RMSE: 12.8228\n",
      "[LightGBM] [Warning] feature_fraction is set=0.9450630242019847, colsample_bytree=1.0 will be ignored. Current value: feature_fraction=0.9450630242019847\n",
      "[LightGBM] [Warning] lambda_l1 is set=0.002477866490667525, reg_alpha=0.0 will be ignored. Current value: lambda_l1=0.002477866490667525\n",
      "[LightGBM] [Warning] lambda_l2 is set=2.3052514525674056e-06, reg_lambda=0.0 will be ignored. Current value: lambda_l2=2.3052514525674056e-06\n",
      "[LightGBM] [Warning] bagging_fraction is set=0.5550229971836489, subsample=1.0 will be ignored. Current value: bagging_fraction=0.5550229971836489\n",
      "[LightGBM] [Warning] bagging_freq is set=7, subsample_freq=0 will be ignored. Current value: bagging_freq=7\n"
     ]
    },
    {
     "name": "stderr",
     "output_type": "stream",
     "text": [
      "C:\\Users\\Home\\PycharmProjects\\DSC-project\\.venv\\Lib\\site-packages\\sklearn\\utils\\validation.py:2749: UserWarning: X does not have valid feature names, but LGBMRegressor was fitted with feature names\n",
      "  warnings.warn(\n"
     ]
    },
    {
     "name": "stdout",
     "output_type": "stream",
     "text": [
      "[LightGBM] [Warning] feature_fraction is set=0.9450630242019847, colsample_bytree=1.0 will be ignored. Current value: feature_fraction=0.9450630242019847\n",
      "[LightGBM] [Warning] lambda_l1 is set=0.002477866490667525, reg_alpha=0.0 will be ignored. Current value: lambda_l1=0.002477866490667525\n",
      "[LightGBM] [Warning] lambda_l2 is set=2.3052514525674056e-06, reg_lambda=0.0 will be ignored. Current value: lambda_l2=2.3052514525674056e-06\n",
      "[LightGBM] [Warning] bagging_fraction is set=0.5550229971836489, subsample=1.0 will be ignored. Current value: bagging_fraction=0.5550229971836489\n",
      "[LightGBM] [Warning] bagging_freq is set=7, subsample_freq=0 will be ignored. Current value: bagging_freq=7\n",
      "[LightGBM] [Warning] feature_fraction is set=0.9450630242019847, colsample_bytree=1.0 will be ignored. Current value: feature_fraction=0.9450630242019847\n",
      "[LightGBM] [Warning] lambda_l1 is set=0.002477866490667525, reg_alpha=0.0 will be ignored. Current value: lambda_l1=0.002477866490667525\n",
      "[LightGBM] [Warning] lambda_l2 is set=2.3052514525674056e-06, reg_lambda=0.0 will be ignored. Current value: lambda_l2=2.3052514525674056e-06\n",
      "[LightGBM] [Warning] bagging_fraction is set=0.5550229971836489, subsample=1.0 will be ignored. Current value: bagging_fraction=0.5550229971836489\n",
      "[LightGBM] [Warning] bagging_freq is set=7, subsample_freq=0 will be ignored. Current value: bagging_freq=7\n",
      "[LightGBM] [Info] Auto-choosing row-wise multi-threading, the overhead of testing was 0.014997 seconds.\n",
      "You can set `force_row_wise=true` to remove the overhead.\n",
      "And if memory is not enough, you can set `force_col_wise=true`.\n",
      "[LightGBM] [Info] Total Bins 2119\n",
      "[LightGBM] [Info] Number of data points in the train set: 712500, number of used features: 197\n",
      "[LightGBM] [Warning] feature_fraction is set=0.9450630242019847, colsample_bytree=1.0 will be ignored. Current value: feature_fraction=0.9450630242019847\n",
      "[LightGBM] [Warning] lambda_l1 is set=0.002477866490667525, reg_alpha=0.0 will be ignored. Current value: lambda_l1=0.002477866490667525\n",
      "[LightGBM] [Warning] lambda_l2 is set=2.3052514525674056e-06, reg_lambda=0.0 will be ignored. Current value: lambda_l2=2.3052514525674056e-06\n",
      "[LightGBM] [Warning] bagging_fraction is set=0.5550229971836489, subsample=1.0 will be ignored. Current value: bagging_fraction=0.5550229971836489\n",
      "[LightGBM] [Warning] bagging_freq is set=7, subsample_freq=0 will be ignored. Current value: bagging_freq=7\n",
      "[LightGBM] [Info] Start training from score 45.449105\n",
      "Training until validation scores don't improve for 100 rounds\n",
      "Early stopping, best iteration is:\n",
      "[925]\tvalid_0's rmse: 12.7818\tvalid_0's l2: 163.374\n"
     ]
    },
    {
     "name": "stderr",
     "output_type": "stream",
     "text": [
      "C:\\Users\\Home\\PycharmProjects\\DSC-project\\.venv\\Lib\\site-packages\\sklearn\\utils\\validation.py:2749: UserWarning: X does not have valid feature names, but LGBMRegressor was fitted with feature names\n",
      "  warnings.warn(\n"
     ]
    },
    {
     "name": "stdout",
     "output_type": "stream",
     "text": [
      "[LightGBM] [Warning] feature_fraction is set=0.9450630242019847, colsample_bytree=1.0 will be ignored. Current value: feature_fraction=0.9450630242019847\n",
      "[LightGBM] [Warning] lambda_l1 is set=0.002477866490667525, reg_alpha=0.0 will be ignored. Current value: lambda_l1=0.002477866490667525\n",
      "[LightGBM] [Warning] lambda_l2 is set=2.3052514525674056e-06, reg_lambda=0.0 will be ignored. Current value: lambda_l2=2.3052514525674056e-06\n",
      "[LightGBM] [Warning] bagging_fraction is set=0.5550229971836489, subsample=1.0 will be ignored. Current value: bagging_fraction=0.5550229971836489\n",
      "[LightGBM] [Warning] bagging_freq is set=7, subsample_freq=0 will be ignored. Current value: bagging_freq=7\n",
      "Fold 7 RMSE: 12.7818\n",
      "[LightGBM] [Warning] feature_fraction is set=0.9450630242019847, colsample_bytree=1.0 will be ignored. Current value: feature_fraction=0.9450630242019847\n",
      "[LightGBM] [Warning] lambda_l1 is set=0.002477866490667525, reg_alpha=0.0 will be ignored. Current value: lambda_l1=0.002477866490667525\n",
      "[LightGBM] [Warning] lambda_l2 is set=2.3052514525674056e-06, reg_lambda=0.0 will be ignored. Current value: lambda_l2=2.3052514525674056e-06\n",
      "[LightGBM] [Warning] bagging_fraction is set=0.5550229971836489, subsample=1.0 will be ignored. Current value: bagging_fraction=0.5550229971836489\n",
      "[LightGBM] [Warning] bagging_freq is set=7, subsample_freq=0 will be ignored. Current value: bagging_freq=7\n"
     ]
    },
    {
     "name": "stderr",
     "output_type": "stream",
     "text": [
      "C:\\Users\\Home\\PycharmProjects\\DSC-project\\.venv\\Lib\\site-packages\\sklearn\\utils\\validation.py:2749: UserWarning: X does not have valid feature names, but LGBMRegressor was fitted with feature names\n",
      "  warnings.warn(\n"
     ]
    },
    {
     "name": "stdout",
     "output_type": "stream",
     "text": [
      "[LightGBM] [Warning] feature_fraction is set=0.9450630242019847, colsample_bytree=1.0 will be ignored. Current value: feature_fraction=0.9450630242019847\n",
      "[LightGBM] [Warning] lambda_l1 is set=0.002477866490667525, reg_alpha=0.0 will be ignored. Current value: lambda_l1=0.002477866490667525\n",
      "[LightGBM] [Warning] lambda_l2 is set=2.3052514525674056e-06, reg_lambda=0.0 will be ignored. Current value: lambda_l2=2.3052514525674056e-06\n",
      "[LightGBM] [Warning] bagging_fraction is set=0.5550229971836489, subsample=1.0 will be ignored. Current value: bagging_fraction=0.5550229971836489\n",
      "[LightGBM] [Warning] bagging_freq is set=7, subsample_freq=0 will be ignored. Current value: bagging_freq=7\n",
      "[LightGBM] [Warning] feature_fraction is set=0.9450630242019847, colsample_bytree=1.0 will be ignored. Current value: feature_fraction=0.9450630242019847\n",
      "[LightGBM] [Warning] lambda_l1 is set=0.002477866490667525, reg_alpha=0.0 will be ignored. Current value: lambda_l1=0.002477866490667525\n",
      "[LightGBM] [Warning] lambda_l2 is set=2.3052514525674056e-06, reg_lambda=0.0 will be ignored. Current value: lambda_l2=2.3052514525674056e-06\n",
      "[LightGBM] [Warning] bagging_fraction is set=0.5550229971836489, subsample=1.0 will be ignored. Current value: bagging_fraction=0.5550229971836489\n",
      "[LightGBM] [Warning] bagging_freq is set=7, subsample_freq=0 will be ignored. Current value: bagging_freq=7\n",
      "[LightGBM] [Info] Auto-choosing row-wise multi-threading, the overhead of testing was 0.016415 seconds.\n",
      "You can set `force_row_wise=true` to remove the overhead.\n",
      "And if memory is not enough, you can set `force_col_wise=true`.\n",
      "[LightGBM] [Info] Total Bins 2119\n",
      "[LightGBM] [Info] Number of data points in the train set: 712500, number of used features: 197\n",
      "[LightGBM] [Warning] feature_fraction is set=0.9450630242019847, colsample_bytree=1.0 will be ignored. Current value: feature_fraction=0.9450630242019847\n",
      "[LightGBM] [Warning] lambda_l1 is set=0.002477866490667525, reg_alpha=0.0 will be ignored. Current value: lambda_l1=0.002477866490667525\n",
      "[LightGBM] [Warning] lambda_l2 is set=2.3052514525674056e-06, reg_lambda=0.0 will be ignored. Current value: lambda_l2=2.3052514525674056e-06\n",
      "[LightGBM] [Warning] bagging_fraction is set=0.5550229971836489, subsample=1.0 will be ignored. Current value: bagging_fraction=0.5550229971836489\n",
      "[LightGBM] [Warning] bagging_freq is set=7, subsample_freq=0 will be ignored. Current value: bagging_freq=7\n",
      "[LightGBM] [Info] Start training from score 45.436712\n",
      "Training until validation scores don't improve for 100 rounds\n",
      "Early stopping, best iteration is:\n",
      "[836]\tvalid_0's rmse: 12.9448\tvalid_0's l2: 167.569\n"
     ]
    },
    {
     "name": "stderr",
     "output_type": "stream",
     "text": [
      "C:\\Users\\Home\\PycharmProjects\\DSC-project\\.venv\\Lib\\site-packages\\sklearn\\utils\\validation.py:2749: UserWarning: X does not have valid feature names, but LGBMRegressor was fitted with feature names\n",
      "  warnings.warn(\n"
     ]
    },
    {
     "name": "stdout",
     "output_type": "stream",
     "text": [
      "[LightGBM] [Warning] feature_fraction is set=0.9450630242019847, colsample_bytree=1.0 will be ignored. Current value: feature_fraction=0.9450630242019847\n",
      "[LightGBM] [Warning] lambda_l1 is set=0.002477866490667525, reg_alpha=0.0 will be ignored. Current value: lambda_l1=0.002477866490667525\n",
      "[LightGBM] [Warning] lambda_l2 is set=2.3052514525674056e-06, reg_lambda=0.0 will be ignored. Current value: lambda_l2=2.3052514525674056e-06\n",
      "[LightGBM] [Warning] bagging_fraction is set=0.5550229971836489, subsample=1.0 will be ignored. Current value: bagging_fraction=0.5550229971836489\n",
      "[LightGBM] [Warning] bagging_freq is set=7, subsample_freq=0 will be ignored. Current value: bagging_freq=7\n",
      "Fold 8 RMSE: 12.9448\n",
      "[LightGBM] [Warning] feature_fraction is set=0.9450630242019847, colsample_bytree=1.0 will be ignored. Current value: feature_fraction=0.9450630242019847\n",
      "[LightGBM] [Warning] lambda_l1 is set=0.002477866490667525, reg_alpha=0.0 will be ignored. Current value: lambda_l1=0.002477866490667525\n",
      "[LightGBM] [Warning] lambda_l2 is set=2.3052514525674056e-06, reg_lambda=0.0 will be ignored. Current value: lambda_l2=2.3052514525674056e-06\n",
      "[LightGBM] [Warning] bagging_fraction is set=0.5550229971836489, subsample=1.0 will be ignored. Current value: bagging_fraction=0.5550229971836489\n",
      "[LightGBM] [Warning] bagging_freq is set=7, subsample_freq=0 will be ignored. Current value: bagging_freq=7\n"
     ]
    },
    {
     "name": "stderr",
     "output_type": "stream",
     "text": [
      "C:\\Users\\Home\\PycharmProjects\\DSC-project\\.venv\\Lib\\site-packages\\sklearn\\utils\\validation.py:2749: UserWarning: X does not have valid feature names, but LGBMRegressor was fitted with feature names\n",
      "  warnings.warn(\n"
     ]
    },
    {
     "name": "stdout",
     "output_type": "stream",
     "text": [
      "[LightGBM] [Warning] feature_fraction is set=0.9450630242019847, colsample_bytree=1.0 will be ignored. Current value: feature_fraction=0.9450630242019847\n",
      "[LightGBM] [Warning] lambda_l1 is set=0.002477866490667525, reg_alpha=0.0 will be ignored. Current value: lambda_l1=0.002477866490667525\n",
      "[LightGBM] [Warning] lambda_l2 is set=2.3052514525674056e-06, reg_lambda=0.0 will be ignored. Current value: lambda_l2=2.3052514525674056e-06\n",
      "[LightGBM] [Warning] bagging_fraction is set=0.5550229971836489, subsample=1.0 will be ignored. Current value: bagging_fraction=0.5550229971836489\n",
      "[LightGBM] [Warning] bagging_freq is set=7, subsample_freq=0 will be ignored. Current value: bagging_freq=7\n",
      "[LightGBM] [Warning] feature_fraction is set=0.9450630242019847, colsample_bytree=1.0 will be ignored. Current value: feature_fraction=0.9450630242019847\n",
      "[LightGBM] [Warning] lambda_l1 is set=0.002477866490667525, reg_alpha=0.0 will be ignored. Current value: lambda_l1=0.002477866490667525\n",
      "[LightGBM] [Warning] lambda_l2 is set=2.3052514525674056e-06, reg_lambda=0.0 will be ignored. Current value: lambda_l2=2.3052514525674056e-06\n",
      "[LightGBM] [Warning] bagging_fraction is set=0.5550229971836489, subsample=1.0 will be ignored. Current value: bagging_fraction=0.5550229971836489\n",
      "[LightGBM] [Warning] bagging_freq is set=7, subsample_freq=0 will be ignored. Current value: bagging_freq=7\n",
      "[LightGBM] [Info] Auto-choosing row-wise multi-threading, the overhead of testing was 0.019344 seconds.\n",
      "You can set `force_row_wise=true` to remove the overhead.\n",
      "And if memory is not enough, you can set `force_col_wise=true`.\n",
      "[LightGBM] [Info] Total Bins 2119\n",
      "[LightGBM] [Info] Number of data points in the train set: 712500, number of used features: 197\n",
      "[LightGBM] [Warning] feature_fraction is set=0.9450630242019847, colsample_bytree=1.0 will be ignored. Current value: feature_fraction=0.9450630242019847\n",
      "[LightGBM] [Warning] lambda_l1 is set=0.002477866490667525, reg_alpha=0.0 will be ignored. Current value: lambda_l1=0.002477866490667525\n",
      "[LightGBM] [Warning] lambda_l2 is set=2.3052514525674056e-06, reg_lambda=0.0 will be ignored. Current value: lambda_l2=2.3052514525674056e-06\n",
      "[LightGBM] [Warning] bagging_fraction is set=0.5550229971836489, subsample=1.0 will be ignored. Current value: bagging_fraction=0.5550229971836489\n",
      "[LightGBM] [Warning] bagging_freq is set=7, subsample_freq=0 will be ignored. Current value: bagging_freq=7\n",
      "[LightGBM] [Info] Start training from score 45.447354\n",
      "Training until validation scores don't improve for 100 rounds\n",
      "Early stopping, best iteration is:\n",
      "[1383]\tvalid_0's rmse: 12.9269\tvalid_0's l2: 167.105\n"
     ]
    },
    {
     "name": "stderr",
     "output_type": "stream",
     "text": [
      "C:\\Users\\Home\\PycharmProjects\\DSC-project\\.venv\\Lib\\site-packages\\sklearn\\utils\\validation.py:2749: UserWarning: X does not have valid feature names, but LGBMRegressor was fitted with feature names\n",
      "  warnings.warn(\n"
     ]
    },
    {
     "name": "stdout",
     "output_type": "stream",
     "text": [
      "[LightGBM] [Warning] feature_fraction is set=0.9450630242019847, colsample_bytree=1.0 will be ignored. Current value: feature_fraction=0.9450630242019847\n",
      "[LightGBM] [Warning] lambda_l1 is set=0.002477866490667525, reg_alpha=0.0 will be ignored. Current value: lambda_l1=0.002477866490667525\n",
      "[LightGBM] [Warning] lambda_l2 is set=2.3052514525674056e-06, reg_lambda=0.0 will be ignored. Current value: lambda_l2=2.3052514525674056e-06\n",
      "[LightGBM] [Warning] bagging_fraction is set=0.5550229971836489, subsample=1.0 will be ignored. Current value: bagging_fraction=0.5550229971836489\n",
      "[LightGBM] [Warning] bagging_freq is set=7, subsample_freq=0 will be ignored. Current value: bagging_freq=7\n",
      "Fold 9 RMSE: 12.9269\n",
      "[LightGBM] [Warning] feature_fraction is set=0.9450630242019847, colsample_bytree=1.0 will be ignored. Current value: feature_fraction=0.9450630242019847\n",
      "[LightGBM] [Warning] lambda_l1 is set=0.002477866490667525, reg_alpha=0.0 will be ignored. Current value: lambda_l1=0.002477866490667525\n",
      "[LightGBM] [Warning] lambda_l2 is set=2.3052514525674056e-06, reg_lambda=0.0 will be ignored. Current value: lambda_l2=2.3052514525674056e-06\n",
      "[LightGBM] [Warning] bagging_fraction is set=0.5550229971836489, subsample=1.0 will be ignored. Current value: bagging_fraction=0.5550229971836489\n",
      "[LightGBM] [Warning] bagging_freq is set=7, subsample_freq=0 will be ignored. Current value: bagging_freq=7\n"
     ]
    },
    {
     "name": "stderr",
     "output_type": "stream",
     "text": [
      "C:\\Users\\Home\\PycharmProjects\\DSC-project\\.venv\\Lib\\site-packages\\sklearn\\utils\\validation.py:2749: UserWarning: X does not have valid feature names, but LGBMRegressor was fitted with feature names\n",
      "  warnings.warn(\n"
     ]
    },
    {
     "name": "stdout",
     "output_type": "stream",
     "text": [
      "[LightGBM] [Warning] feature_fraction is set=0.9450630242019847, colsample_bytree=1.0 will be ignored. Current value: feature_fraction=0.9450630242019847\n",
      "[LightGBM] [Warning] lambda_l1 is set=0.002477866490667525, reg_alpha=0.0 will be ignored. Current value: lambda_l1=0.002477866490667525\n",
      "[LightGBM] [Warning] lambda_l2 is set=2.3052514525674056e-06, reg_lambda=0.0 will be ignored. Current value: lambda_l2=2.3052514525674056e-06\n",
      "[LightGBM] [Warning] bagging_fraction is set=0.5550229971836489, subsample=1.0 will be ignored. Current value: bagging_fraction=0.5550229971836489\n",
      "[LightGBM] [Warning] bagging_freq is set=7, subsample_freq=0 will be ignored. Current value: bagging_freq=7\n",
      "[LightGBM] [Warning] feature_fraction is set=0.9450630242019847, colsample_bytree=1.0 will be ignored. Current value: feature_fraction=0.9450630242019847\n",
      "[LightGBM] [Warning] lambda_l1 is set=0.002477866490667525, reg_alpha=0.0 will be ignored. Current value: lambda_l1=0.002477866490667525\n",
      "[LightGBM] [Warning] lambda_l2 is set=2.3052514525674056e-06, reg_lambda=0.0 will be ignored. Current value: lambda_l2=2.3052514525674056e-06\n",
      "[LightGBM] [Warning] bagging_fraction is set=0.5550229971836489, subsample=1.0 will be ignored. Current value: bagging_fraction=0.5550229971836489\n",
      "[LightGBM] [Warning] bagging_freq is set=7, subsample_freq=0 will be ignored. Current value: bagging_freq=7\n",
      "[LightGBM] [Info] Auto-choosing col-wise multi-threading, the overhead of testing was 0.093559 seconds.\n",
      "You can set `force_col_wise=true` to remove the overhead.\n",
      "[LightGBM] [Info] Total Bins 2119\n",
      "[LightGBM] [Info] Number of data points in the train set: 712500, number of used features: 197\n",
      "[LightGBM] [Warning] feature_fraction is set=0.9450630242019847, colsample_bytree=1.0 will be ignored. Current value: feature_fraction=0.9450630242019847\n",
      "[LightGBM] [Warning] lambda_l1 is set=0.002477866490667525, reg_alpha=0.0 will be ignored. Current value: lambda_l1=0.002477866490667525\n",
      "[LightGBM] [Warning] lambda_l2 is set=2.3052514525674056e-06, reg_lambda=0.0 will be ignored. Current value: lambda_l2=2.3052514525674056e-06\n",
      "[LightGBM] [Warning] bagging_fraction is set=0.5550229971836489, subsample=1.0 will be ignored. Current value: bagging_fraction=0.5550229971836489\n",
      "[LightGBM] [Warning] bagging_freq is set=7, subsample_freq=0 will be ignored. Current value: bagging_freq=7\n",
      "[LightGBM] [Info] Start training from score 45.427252\n",
      "Training until validation scores don't improve for 100 rounds\n",
      "Early stopping, best iteration is:\n",
      "[1038]\tvalid_0's rmse: 12.7784\tvalid_0's l2: 163.288\n"
     ]
    },
    {
     "name": "stderr",
     "output_type": "stream",
     "text": [
      "C:\\Users\\Home\\PycharmProjects\\DSC-project\\.venv\\Lib\\site-packages\\sklearn\\utils\\validation.py:2749: UserWarning: X does not have valid feature names, but LGBMRegressor was fitted with feature names\n",
      "  warnings.warn(\n"
     ]
    },
    {
     "name": "stdout",
     "output_type": "stream",
     "text": [
      "[LightGBM] [Warning] feature_fraction is set=0.9450630242019847, colsample_bytree=1.0 will be ignored. Current value: feature_fraction=0.9450630242019847\n",
      "[LightGBM] [Warning] lambda_l1 is set=0.002477866490667525, reg_alpha=0.0 will be ignored. Current value: lambda_l1=0.002477866490667525\n",
      "[LightGBM] [Warning] lambda_l2 is set=2.3052514525674056e-06, reg_lambda=0.0 will be ignored. Current value: lambda_l2=2.3052514525674056e-06\n",
      "[LightGBM] [Warning] bagging_fraction is set=0.5550229971836489, subsample=1.0 will be ignored. Current value: bagging_fraction=0.5550229971836489\n",
      "[LightGBM] [Warning] bagging_freq is set=7, subsample_freq=0 will be ignored. Current value: bagging_freq=7\n",
      "Fold 10 RMSE: 12.7784\n",
      "[LightGBM] [Warning] feature_fraction is set=0.9450630242019847, colsample_bytree=1.0 will be ignored. Current value: feature_fraction=0.9450630242019847\n",
      "[LightGBM] [Warning] lambda_l1 is set=0.002477866490667525, reg_alpha=0.0 will be ignored. Current value: lambda_l1=0.002477866490667525\n",
      "[LightGBM] [Warning] lambda_l2 is set=2.3052514525674056e-06, reg_lambda=0.0 will be ignored. Current value: lambda_l2=2.3052514525674056e-06\n",
      "[LightGBM] [Warning] bagging_fraction is set=0.5550229971836489, subsample=1.0 will be ignored. Current value: bagging_fraction=0.5550229971836489\n",
      "[LightGBM] [Warning] bagging_freq is set=7, subsample_freq=0 will be ignored. Current value: bagging_freq=7\n"
     ]
    },
    {
     "name": "stderr",
     "output_type": "stream",
     "text": [
      "C:\\Users\\Home\\PycharmProjects\\DSC-project\\.venv\\Lib\\site-packages\\sklearn\\utils\\validation.py:2749: UserWarning: X does not have valid feature names, but LGBMRegressor was fitted with feature names\n",
      "  warnings.warn(\n"
     ]
    },
    {
     "name": "stdout",
     "output_type": "stream",
     "text": [
      "[LightGBM] [Warning] feature_fraction is set=0.9450630242019847, colsample_bytree=1.0 will be ignored. Current value: feature_fraction=0.9450630242019847\n",
      "[LightGBM] [Warning] lambda_l1 is set=0.002477866490667525, reg_alpha=0.0 will be ignored. Current value: lambda_l1=0.002477866490667525\n",
      "[LightGBM] [Warning] lambda_l2 is set=2.3052514525674056e-06, reg_lambda=0.0 will be ignored. Current value: lambda_l2=2.3052514525674056e-06\n",
      "[LightGBM] [Warning] bagging_fraction is set=0.5550229971836489, subsample=1.0 will be ignored. Current value: bagging_fraction=0.5550229971836489\n",
      "[LightGBM] [Warning] bagging_freq is set=7, subsample_freq=0 will be ignored. Current value: bagging_freq=7\n",
      "[LightGBM] [Warning] feature_fraction is set=0.9450630242019847, colsample_bytree=1.0 will be ignored. Current value: feature_fraction=0.9450630242019847\n",
      "[LightGBM] [Warning] lambda_l1 is set=0.002477866490667525, reg_alpha=0.0 will be ignored. Current value: lambda_l1=0.002477866490667525\n",
      "[LightGBM] [Warning] lambda_l2 is set=2.3052514525674056e-06, reg_lambda=0.0 will be ignored. Current value: lambda_l2=2.3052514525674056e-06\n",
      "[LightGBM] [Warning] bagging_fraction is set=0.5550229971836489, subsample=1.0 will be ignored. Current value: bagging_fraction=0.5550229971836489\n",
      "[LightGBM] [Warning] bagging_freq is set=7, subsample_freq=0 will be ignored. Current value: bagging_freq=7\n",
      "[LightGBM] [Info] Auto-choosing row-wise multi-threading, the overhead of testing was 0.015639 seconds.\n",
      "You can set `force_row_wise=true` to remove the overhead.\n",
      "And if memory is not enough, you can set `force_col_wise=true`.\n",
      "[LightGBM] [Info] Total Bins 2119\n",
      "[LightGBM] [Info] Number of data points in the train set: 712500, number of used features: 197\n",
      "[LightGBM] [Warning] feature_fraction is set=0.9450630242019847, colsample_bytree=1.0 will be ignored. Current value: feature_fraction=0.9450630242019847\n",
      "[LightGBM] [Warning] lambda_l1 is set=0.002477866490667525, reg_alpha=0.0 will be ignored. Current value: lambda_l1=0.002477866490667525\n",
      "[LightGBM] [Warning] lambda_l2 is set=2.3052514525674056e-06, reg_lambda=0.0 will be ignored. Current value: lambda_l2=2.3052514525674056e-06\n",
      "[LightGBM] [Warning] bagging_fraction is set=0.5550229971836489, subsample=1.0 will be ignored. Current value: bagging_fraction=0.5550229971836489\n",
      "[LightGBM] [Warning] bagging_freq is set=7, subsample_freq=0 will be ignored. Current value: bagging_freq=7\n",
      "[LightGBM] [Info] Start training from score 45.431963\n",
      "Training until validation scores don't improve for 100 rounds\n",
      "Early stopping, best iteration is:\n",
      "[910]\tvalid_0's rmse: 12.7654\tvalid_0's l2: 162.955\n"
     ]
    },
    {
     "name": "stderr",
     "output_type": "stream",
     "text": [
      "C:\\Users\\Home\\PycharmProjects\\DSC-project\\.venv\\Lib\\site-packages\\sklearn\\utils\\validation.py:2749: UserWarning: X does not have valid feature names, but LGBMRegressor was fitted with feature names\n",
      "  warnings.warn(\n"
     ]
    },
    {
     "name": "stdout",
     "output_type": "stream",
     "text": [
      "[LightGBM] [Warning] feature_fraction is set=0.9450630242019847, colsample_bytree=1.0 will be ignored. Current value: feature_fraction=0.9450630242019847\n",
      "[LightGBM] [Warning] lambda_l1 is set=0.002477866490667525, reg_alpha=0.0 will be ignored. Current value: lambda_l1=0.002477866490667525\n",
      "[LightGBM] [Warning] lambda_l2 is set=2.3052514525674056e-06, reg_lambda=0.0 will be ignored. Current value: lambda_l2=2.3052514525674056e-06\n",
      "[LightGBM] [Warning] bagging_fraction is set=0.5550229971836489, subsample=1.0 will be ignored. Current value: bagging_fraction=0.5550229971836489\n",
      "[LightGBM] [Warning] bagging_freq is set=7, subsample_freq=0 will be ignored. Current value: bagging_freq=7\n",
      "Fold 11 RMSE: 12.7654\n",
      "[LightGBM] [Warning] feature_fraction is set=0.9450630242019847, colsample_bytree=1.0 will be ignored. Current value: feature_fraction=0.9450630242019847\n",
      "[LightGBM] [Warning] lambda_l1 is set=0.002477866490667525, reg_alpha=0.0 will be ignored. Current value: lambda_l1=0.002477866490667525\n",
      "[LightGBM] [Warning] lambda_l2 is set=2.3052514525674056e-06, reg_lambda=0.0 will be ignored. Current value: lambda_l2=2.3052514525674056e-06\n",
      "[LightGBM] [Warning] bagging_fraction is set=0.5550229971836489, subsample=1.0 will be ignored. Current value: bagging_fraction=0.5550229971836489\n",
      "[LightGBM] [Warning] bagging_freq is set=7, subsample_freq=0 will be ignored. Current value: bagging_freq=7\n"
     ]
    },
    {
     "name": "stderr",
     "output_type": "stream",
     "text": [
      "C:\\Users\\Home\\PycharmProjects\\DSC-project\\.venv\\Lib\\site-packages\\sklearn\\utils\\validation.py:2749: UserWarning: X does not have valid feature names, but LGBMRegressor was fitted with feature names\n",
      "  warnings.warn(\n"
     ]
    },
    {
     "name": "stdout",
     "output_type": "stream",
     "text": [
      "[LightGBM] [Warning] feature_fraction is set=0.9450630242019847, colsample_bytree=1.0 will be ignored. Current value: feature_fraction=0.9450630242019847\n",
      "[LightGBM] [Warning] lambda_l1 is set=0.002477866490667525, reg_alpha=0.0 will be ignored. Current value: lambda_l1=0.002477866490667525\n",
      "[LightGBM] [Warning] lambda_l2 is set=2.3052514525674056e-06, reg_lambda=0.0 will be ignored. Current value: lambda_l2=2.3052514525674056e-06\n",
      "[LightGBM] [Warning] bagging_fraction is set=0.5550229971836489, subsample=1.0 will be ignored. Current value: bagging_fraction=0.5550229971836489\n",
      "[LightGBM] [Warning] bagging_freq is set=7, subsample_freq=0 will be ignored. Current value: bagging_freq=7\n",
      "[LightGBM] [Warning] feature_fraction is set=0.9450630242019847, colsample_bytree=1.0 will be ignored. Current value: feature_fraction=0.9450630242019847\n",
      "[LightGBM] [Warning] lambda_l1 is set=0.002477866490667525, reg_alpha=0.0 will be ignored. Current value: lambda_l1=0.002477866490667525\n",
      "[LightGBM] [Warning] lambda_l2 is set=2.3052514525674056e-06, reg_lambda=0.0 will be ignored. Current value: lambda_l2=2.3052514525674056e-06\n",
      "[LightGBM] [Warning] bagging_fraction is set=0.5550229971836489, subsample=1.0 will be ignored. Current value: bagging_fraction=0.5550229971836489\n",
      "[LightGBM] [Warning] bagging_freq is set=7, subsample_freq=0 will be ignored. Current value: bagging_freq=7\n",
      "[LightGBM] [Info] Auto-choosing row-wise multi-threading, the overhead of testing was 0.016087 seconds.\n",
      "You can set `force_row_wise=true` to remove the overhead.\n",
      "And if memory is not enough, you can set `force_col_wise=true`.\n",
      "[LightGBM] [Info] Total Bins 2119\n",
      "[LightGBM] [Info] Number of data points in the train set: 712500, number of used features: 197\n",
      "[LightGBM] [Warning] feature_fraction is set=0.9450630242019847, colsample_bytree=1.0 will be ignored. Current value: feature_fraction=0.9450630242019847\n",
      "[LightGBM] [Warning] lambda_l1 is set=0.002477866490667525, reg_alpha=0.0 will be ignored. Current value: lambda_l1=0.002477866490667525\n",
      "[LightGBM] [Warning] lambda_l2 is set=2.3052514525674056e-06, reg_lambda=0.0 will be ignored. Current value: lambda_l2=2.3052514525674056e-06\n",
      "[LightGBM] [Warning] bagging_fraction is set=0.5550229971836489, subsample=1.0 will be ignored. Current value: bagging_fraction=0.5550229971836489\n",
      "[LightGBM] [Warning] bagging_freq is set=7, subsample_freq=0 will be ignored. Current value: bagging_freq=7\n",
      "[LightGBM] [Info] Start training from score 45.435334\n",
      "Training until validation scores don't improve for 100 rounds\n",
      "Early stopping, best iteration is:\n",
      "[640]\tvalid_0's rmse: 12.8502\tvalid_0's l2: 165.128\n"
     ]
    },
    {
     "name": "stderr",
     "output_type": "stream",
     "text": [
      "C:\\Users\\Home\\PycharmProjects\\DSC-project\\.venv\\Lib\\site-packages\\sklearn\\utils\\validation.py:2749: UserWarning: X does not have valid feature names, but LGBMRegressor was fitted with feature names\n",
      "  warnings.warn(\n"
     ]
    },
    {
     "name": "stdout",
     "output_type": "stream",
     "text": [
      "[LightGBM] [Warning] feature_fraction is set=0.9450630242019847, colsample_bytree=1.0 will be ignored. Current value: feature_fraction=0.9450630242019847\n",
      "[LightGBM] [Warning] lambda_l1 is set=0.002477866490667525, reg_alpha=0.0 will be ignored. Current value: lambda_l1=0.002477866490667525\n",
      "[LightGBM] [Warning] lambda_l2 is set=2.3052514525674056e-06, reg_lambda=0.0 will be ignored. Current value: lambda_l2=2.3052514525674056e-06\n",
      "[LightGBM] [Warning] bagging_fraction is set=0.5550229971836489, subsample=1.0 will be ignored. Current value: bagging_fraction=0.5550229971836489\n",
      "[LightGBM] [Warning] bagging_freq is set=7, subsample_freq=0 will be ignored. Current value: bagging_freq=7\n",
      "Fold 12 RMSE: 12.8502\n",
      "[LightGBM] [Warning] feature_fraction is set=0.9450630242019847, colsample_bytree=1.0 will be ignored. Current value: feature_fraction=0.9450630242019847\n",
      "[LightGBM] [Warning] lambda_l1 is set=0.002477866490667525, reg_alpha=0.0 will be ignored. Current value: lambda_l1=0.002477866490667525\n",
      "[LightGBM] [Warning] lambda_l2 is set=2.3052514525674056e-06, reg_lambda=0.0 will be ignored. Current value: lambda_l2=2.3052514525674056e-06\n",
      "[LightGBM] [Warning] bagging_fraction is set=0.5550229971836489, subsample=1.0 will be ignored. Current value: bagging_fraction=0.5550229971836489\n",
      "[LightGBM] [Warning] bagging_freq is set=7, subsample_freq=0 will be ignored. Current value: bagging_freq=7\n"
     ]
    },
    {
     "name": "stderr",
     "output_type": "stream",
     "text": [
      "C:\\Users\\Home\\PycharmProjects\\DSC-project\\.venv\\Lib\\site-packages\\sklearn\\utils\\validation.py:2749: UserWarning: X does not have valid feature names, but LGBMRegressor was fitted with feature names\n",
      "  warnings.warn(\n"
     ]
    },
    {
     "name": "stdout",
     "output_type": "stream",
     "text": [
      "[LightGBM] [Warning] feature_fraction is set=0.9450630242019847, colsample_bytree=1.0 will be ignored. Current value: feature_fraction=0.9450630242019847\n",
      "[LightGBM] [Warning] lambda_l1 is set=0.002477866490667525, reg_alpha=0.0 will be ignored. Current value: lambda_l1=0.002477866490667525\n",
      "[LightGBM] [Warning] lambda_l2 is set=2.3052514525674056e-06, reg_lambda=0.0 will be ignored. Current value: lambda_l2=2.3052514525674056e-06\n",
      "[LightGBM] [Warning] bagging_fraction is set=0.5550229971836489, subsample=1.0 will be ignored. Current value: bagging_fraction=0.5550229971836489\n",
      "[LightGBM] [Warning] bagging_freq is set=7, subsample_freq=0 will be ignored. Current value: bagging_freq=7\n",
      "[LightGBM] [Warning] feature_fraction is set=0.9450630242019847, colsample_bytree=1.0 will be ignored. Current value: feature_fraction=0.9450630242019847\n",
      "[LightGBM] [Warning] lambda_l1 is set=0.002477866490667525, reg_alpha=0.0 will be ignored. Current value: lambda_l1=0.002477866490667525\n",
      "[LightGBM] [Warning] lambda_l2 is set=2.3052514525674056e-06, reg_lambda=0.0 will be ignored. Current value: lambda_l2=2.3052514525674056e-06\n",
      "[LightGBM] [Warning] bagging_fraction is set=0.5550229971836489, subsample=1.0 will be ignored. Current value: bagging_fraction=0.5550229971836489\n",
      "[LightGBM] [Warning] bagging_freq is set=7, subsample_freq=0 will be ignored. Current value: bagging_freq=7\n",
      "[LightGBM] [Info] Auto-choosing row-wise multi-threading, the overhead of testing was 0.010526 seconds.\n",
      "You can set `force_row_wise=true` to remove the overhead.\n",
      "And if memory is not enough, you can set `force_col_wise=true`.\n",
      "[LightGBM] [Info] Total Bins 2119\n",
      "[LightGBM] [Info] Number of data points in the train set: 712500, number of used features: 197\n",
      "[LightGBM] [Warning] feature_fraction is set=0.9450630242019847, colsample_bytree=1.0 will be ignored. Current value: feature_fraction=0.9450630242019847\n",
      "[LightGBM] [Warning] lambda_l1 is set=0.002477866490667525, reg_alpha=0.0 will be ignored. Current value: lambda_l1=0.002477866490667525\n",
      "[LightGBM] [Warning] lambda_l2 is set=2.3052514525674056e-06, reg_lambda=0.0 will be ignored. Current value: lambda_l2=2.3052514525674056e-06\n",
      "[LightGBM] [Warning] bagging_fraction is set=0.5550229971836489, subsample=1.0 will be ignored. Current value: bagging_fraction=0.5550229971836489\n",
      "[LightGBM] [Warning] bagging_freq is set=7, subsample_freq=0 will be ignored. Current value: bagging_freq=7\n",
      "[LightGBM] [Info] Start training from score 45.433232\n",
      "Training until validation scores don't improve for 100 rounds\n",
      "Early stopping, best iteration is:\n",
      "[799]\tvalid_0's rmse: 12.7979\tvalid_0's l2: 163.785\n"
     ]
    },
    {
     "name": "stderr",
     "output_type": "stream",
     "text": [
      "C:\\Users\\Home\\PycharmProjects\\DSC-project\\.venv\\Lib\\site-packages\\sklearn\\utils\\validation.py:2749: UserWarning: X does not have valid feature names, but LGBMRegressor was fitted with feature names\n",
      "  warnings.warn(\n"
     ]
    },
    {
     "name": "stdout",
     "output_type": "stream",
     "text": [
      "[LightGBM] [Warning] feature_fraction is set=0.9450630242019847, colsample_bytree=1.0 will be ignored. Current value: feature_fraction=0.9450630242019847\n",
      "[LightGBM] [Warning] lambda_l1 is set=0.002477866490667525, reg_alpha=0.0 will be ignored. Current value: lambda_l1=0.002477866490667525\n",
      "[LightGBM] [Warning] lambda_l2 is set=2.3052514525674056e-06, reg_lambda=0.0 will be ignored. Current value: lambda_l2=2.3052514525674056e-06\n",
      "[LightGBM] [Warning] bagging_fraction is set=0.5550229971836489, subsample=1.0 will be ignored. Current value: bagging_fraction=0.5550229971836489\n",
      "[LightGBM] [Warning] bagging_freq is set=7, subsample_freq=0 will be ignored. Current value: bagging_freq=7\n",
      "Fold 13 RMSE: 12.7979\n",
      "[LightGBM] [Warning] feature_fraction is set=0.9450630242019847, colsample_bytree=1.0 will be ignored. Current value: feature_fraction=0.9450630242019847\n",
      "[LightGBM] [Warning] lambda_l1 is set=0.002477866490667525, reg_alpha=0.0 will be ignored. Current value: lambda_l1=0.002477866490667525\n",
      "[LightGBM] [Warning] lambda_l2 is set=2.3052514525674056e-06, reg_lambda=0.0 will be ignored. Current value: lambda_l2=2.3052514525674056e-06\n",
      "[LightGBM] [Warning] bagging_fraction is set=0.5550229971836489, subsample=1.0 will be ignored. Current value: bagging_fraction=0.5550229971836489\n",
      "[LightGBM] [Warning] bagging_freq is set=7, subsample_freq=0 will be ignored. Current value: bagging_freq=7\n"
     ]
    },
    {
     "name": "stderr",
     "output_type": "stream",
     "text": [
      "C:\\Users\\Home\\PycharmProjects\\DSC-project\\.venv\\Lib\\site-packages\\sklearn\\utils\\validation.py:2749: UserWarning: X does not have valid feature names, but LGBMRegressor was fitted with feature names\n",
      "  warnings.warn(\n"
     ]
    },
    {
     "name": "stdout",
     "output_type": "stream",
     "text": [
      "[LightGBM] [Warning] feature_fraction is set=0.9450630242019847, colsample_bytree=1.0 will be ignored. Current value: feature_fraction=0.9450630242019847\n",
      "[LightGBM] [Warning] lambda_l1 is set=0.002477866490667525, reg_alpha=0.0 will be ignored. Current value: lambda_l1=0.002477866490667525\n",
      "[LightGBM] [Warning] lambda_l2 is set=2.3052514525674056e-06, reg_lambda=0.0 will be ignored. Current value: lambda_l2=2.3052514525674056e-06\n",
      "[LightGBM] [Warning] bagging_fraction is set=0.5550229971836489, subsample=1.0 will be ignored. Current value: bagging_fraction=0.5550229971836489\n",
      "[LightGBM] [Warning] bagging_freq is set=7, subsample_freq=0 will be ignored. Current value: bagging_freq=7\n",
      "[LightGBM] [Warning] feature_fraction is set=0.9450630242019847, colsample_bytree=1.0 will be ignored. Current value: feature_fraction=0.9450630242019847\n",
      "[LightGBM] [Warning] lambda_l1 is set=0.002477866490667525, reg_alpha=0.0 will be ignored. Current value: lambda_l1=0.002477866490667525\n",
      "[LightGBM] [Warning] lambda_l2 is set=2.3052514525674056e-06, reg_lambda=0.0 will be ignored. Current value: lambda_l2=2.3052514525674056e-06\n",
      "[LightGBM] [Warning] bagging_fraction is set=0.5550229971836489, subsample=1.0 will be ignored. Current value: bagging_fraction=0.5550229971836489\n",
      "[LightGBM] [Warning] bagging_freq is set=7, subsample_freq=0 will be ignored. Current value: bagging_freq=7\n",
      "[LightGBM] [Info] Auto-choosing row-wise multi-threading, the overhead of testing was 0.015526 seconds.\n",
      "You can set `force_row_wise=true` to remove the overhead.\n",
      "And if memory is not enough, you can set `force_col_wise=true`.\n",
      "[LightGBM] [Info] Total Bins 2119\n",
      "[LightGBM] [Info] Number of data points in the train set: 712500, number of used features: 197\n",
      "[LightGBM] [Warning] feature_fraction is set=0.9450630242019847, colsample_bytree=1.0 will be ignored. Current value: feature_fraction=0.9450630242019847\n",
      "[LightGBM] [Warning] lambda_l1 is set=0.002477866490667525, reg_alpha=0.0 will be ignored. Current value: lambda_l1=0.002477866490667525\n",
      "[LightGBM] [Warning] lambda_l2 is set=2.3052514525674056e-06, reg_lambda=0.0 will be ignored. Current value: lambda_l2=2.3052514525674056e-06\n",
      "[LightGBM] [Warning] bagging_fraction is set=0.5550229971836489, subsample=1.0 will be ignored. Current value: bagging_fraction=0.5550229971836489\n",
      "[LightGBM] [Warning] bagging_freq is set=7, subsample_freq=0 will be ignored. Current value: bagging_freq=7\n",
      "[LightGBM] [Info] Start training from score 45.429525\n",
      "Training until validation scores don't improve for 100 rounds\n",
      "Early stopping, best iteration is:\n",
      "[970]\tvalid_0's rmse: 12.9111\tvalid_0's l2: 166.696\n"
     ]
    },
    {
     "name": "stderr",
     "output_type": "stream",
     "text": [
      "C:\\Users\\Home\\PycharmProjects\\DSC-project\\.venv\\Lib\\site-packages\\sklearn\\utils\\validation.py:2749: UserWarning: X does not have valid feature names, but LGBMRegressor was fitted with feature names\n",
      "  warnings.warn(\n"
     ]
    },
    {
     "name": "stdout",
     "output_type": "stream",
     "text": [
      "[LightGBM] [Warning] feature_fraction is set=0.9450630242019847, colsample_bytree=1.0 will be ignored. Current value: feature_fraction=0.9450630242019847\n",
      "[LightGBM] [Warning] lambda_l1 is set=0.002477866490667525, reg_alpha=0.0 will be ignored. Current value: lambda_l1=0.002477866490667525\n",
      "[LightGBM] [Warning] lambda_l2 is set=2.3052514525674056e-06, reg_lambda=0.0 will be ignored. Current value: lambda_l2=2.3052514525674056e-06\n",
      "[LightGBM] [Warning] bagging_fraction is set=0.5550229971836489, subsample=1.0 will be ignored. Current value: bagging_fraction=0.5550229971836489\n",
      "[LightGBM] [Warning] bagging_freq is set=7, subsample_freq=0 will be ignored. Current value: bagging_freq=7\n",
      "Fold 14 RMSE: 12.9111\n",
      "[LightGBM] [Warning] feature_fraction is set=0.9450630242019847, colsample_bytree=1.0 will be ignored. Current value: feature_fraction=0.9450630242019847\n",
      "[LightGBM] [Warning] lambda_l1 is set=0.002477866490667525, reg_alpha=0.0 will be ignored. Current value: lambda_l1=0.002477866490667525\n",
      "[LightGBM] [Warning] lambda_l2 is set=2.3052514525674056e-06, reg_lambda=0.0 will be ignored. Current value: lambda_l2=2.3052514525674056e-06\n",
      "[LightGBM] [Warning] bagging_fraction is set=0.5550229971836489, subsample=1.0 will be ignored. Current value: bagging_fraction=0.5550229971836489\n",
      "[LightGBM] [Warning] bagging_freq is set=7, subsample_freq=0 will be ignored. Current value: bagging_freq=7\n"
     ]
    },
    {
     "name": "stderr",
     "output_type": "stream",
     "text": [
      "C:\\Users\\Home\\PycharmProjects\\DSC-project\\.venv\\Lib\\site-packages\\sklearn\\utils\\validation.py:2749: UserWarning: X does not have valid feature names, but LGBMRegressor was fitted with feature names\n",
      "  warnings.warn(\n"
     ]
    },
    {
     "name": "stdout",
     "output_type": "stream",
     "text": [
      "[LightGBM] [Warning] feature_fraction is set=0.9450630242019847, colsample_bytree=1.0 will be ignored. Current value: feature_fraction=0.9450630242019847\n",
      "[LightGBM] [Warning] lambda_l1 is set=0.002477866490667525, reg_alpha=0.0 will be ignored. Current value: lambda_l1=0.002477866490667525\n",
      "[LightGBM] [Warning] lambda_l2 is set=2.3052514525674056e-06, reg_lambda=0.0 will be ignored. Current value: lambda_l2=2.3052514525674056e-06\n",
      "[LightGBM] [Warning] bagging_fraction is set=0.5550229971836489, subsample=1.0 will be ignored. Current value: bagging_fraction=0.5550229971836489\n",
      "[LightGBM] [Warning] bagging_freq is set=7, subsample_freq=0 will be ignored. Current value: bagging_freq=7\n",
      "[LightGBM] [Warning] feature_fraction is set=0.9450630242019847, colsample_bytree=1.0 will be ignored. Current value: feature_fraction=0.9450630242019847\n",
      "[LightGBM] [Warning] lambda_l1 is set=0.002477866490667525, reg_alpha=0.0 will be ignored. Current value: lambda_l1=0.002477866490667525\n",
      "[LightGBM] [Warning] lambda_l2 is set=2.3052514525674056e-06, reg_lambda=0.0 will be ignored. Current value: lambda_l2=2.3052514525674056e-06\n",
      "[LightGBM] [Warning] bagging_fraction is set=0.5550229971836489, subsample=1.0 will be ignored. Current value: bagging_fraction=0.5550229971836489\n",
      "[LightGBM] [Warning] bagging_freq is set=7, subsample_freq=0 will be ignored. Current value: bagging_freq=7\n",
      "[LightGBM] [Info] Auto-choosing row-wise multi-threading, the overhead of testing was 0.017252 seconds.\n",
      "You can set `force_row_wise=true` to remove the overhead.\n",
      "And if memory is not enough, you can set `force_col_wise=true`.\n",
      "[LightGBM] [Info] Total Bins 2119\n",
      "[LightGBM] [Info] Number of data points in the train set: 712500, number of used features: 197\n",
      "[LightGBM] [Warning] feature_fraction is set=0.9450630242019847, colsample_bytree=1.0 will be ignored. Current value: feature_fraction=0.9450630242019847\n",
      "[LightGBM] [Warning] lambda_l1 is set=0.002477866490667525, reg_alpha=0.0 will be ignored. Current value: lambda_l1=0.002477866490667525\n",
      "[LightGBM] [Warning] lambda_l2 is set=2.3052514525674056e-06, reg_lambda=0.0 will be ignored. Current value: lambda_l2=2.3052514525674056e-06\n",
      "[LightGBM] [Warning] bagging_fraction is set=0.5550229971836489, subsample=1.0 will be ignored. Current value: bagging_fraction=0.5550229971836489\n",
      "[LightGBM] [Warning] bagging_freq is set=7, subsample_freq=0 will be ignored. Current value: bagging_freq=7\n",
      "[LightGBM] [Info] Start training from score 45.438138\n",
      "Training until validation scores don't improve for 100 rounds\n",
      "Early stopping, best iteration is:\n",
      "[742]\tvalid_0's rmse: 12.8272\tvalid_0's l2: 164.537\n"
     ]
    },
    {
     "name": "stderr",
     "output_type": "stream",
     "text": [
      "C:\\Users\\Home\\PycharmProjects\\DSC-project\\.venv\\Lib\\site-packages\\sklearn\\utils\\validation.py:2749: UserWarning: X does not have valid feature names, but LGBMRegressor was fitted with feature names\n",
      "  warnings.warn(\n"
     ]
    },
    {
     "name": "stdout",
     "output_type": "stream",
     "text": [
      "[LightGBM] [Warning] feature_fraction is set=0.9450630242019847, colsample_bytree=1.0 will be ignored. Current value: feature_fraction=0.9450630242019847\n",
      "[LightGBM] [Warning] lambda_l1 is set=0.002477866490667525, reg_alpha=0.0 will be ignored. Current value: lambda_l1=0.002477866490667525\n",
      "[LightGBM] [Warning] lambda_l2 is set=2.3052514525674056e-06, reg_lambda=0.0 will be ignored. Current value: lambda_l2=2.3052514525674056e-06\n",
      "[LightGBM] [Warning] bagging_fraction is set=0.5550229971836489, subsample=1.0 will be ignored. Current value: bagging_fraction=0.5550229971836489\n",
      "[LightGBM] [Warning] bagging_freq is set=7, subsample_freq=0 will be ignored. Current value: bagging_freq=7\n",
      "Fold 15 RMSE: 12.8272\n",
      "[LightGBM] [Warning] feature_fraction is set=0.9450630242019847, colsample_bytree=1.0 will be ignored. Current value: feature_fraction=0.9450630242019847\n",
      "[LightGBM] [Warning] lambda_l1 is set=0.002477866490667525, reg_alpha=0.0 will be ignored. Current value: lambda_l1=0.002477866490667525\n",
      "[LightGBM] [Warning] lambda_l2 is set=2.3052514525674056e-06, reg_lambda=0.0 will be ignored. Current value: lambda_l2=2.3052514525674056e-06\n",
      "[LightGBM] [Warning] bagging_fraction is set=0.5550229971836489, subsample=1.0 will be ignored. Current value: bagging_fraction=0.5550229971836489\n",
      "[LightGBM] [Warning] bagging_freq is set=7, subsample_freq=0 will be ignored. Current value: bagging_freq=7\n"
     ]
    },
    {
     "name": "stderr",
     "output_type": "stream",
     "text": [
      "C:\\Users\\Home\\PycharmProjects\\DSC-project\\.venv\\Lib\\site-packages\\sklearn\\utils\\validation.py:2749: UserWarning: X does not have valid feature names, but LGBMRegressor was fitted with feature names\n",
      "  warnings.warn(\n"
     ]
    },
    {
     "name": "stdout",
     "output_type": "stream",
     "text": [
      "[LightGBM] [Warning] feature_fraction is set=0.9450630242019847, colsample_bytree=1.0 will be ignored. Current value: feature_fraction=0.9450630242019847\n",
      "[LightGBM] [Warning] lambda_l1 is set=0.002477866490667525, reg_alpha=0.0 will be ignored. Current value: lambda_l1=0.002477866490667525\n",
      "[LightGBM] [Warning] lambda_l2 is set=2.3052514525674056e-06, reg_lambda=0.0 will be ignored. Current value: lambda_l2=2.3052514525674056e-06\n",
      "[LightGBM] [Warning] bagging_fraction is set=0.5550229971836489, subsample=1.0 will be ignored. Current value: bagging_fraction=0.5550229971836489\n",
      "[LightGBM] [Warning] bagging_freq is set=7, subsample_freq=0 will be ignored. Current value: bagging_freq=7\n",
      "[LightGBM] [Warning] feature_fraction is set=0.9450630242019847, colsample_bytree=1.0 will be ignored. Current value: feature_fraction=0.9450630242019847\n",
      "[LightGBM] [Warning] lambda_l1 is set=0.002477866490667525, reg_alpha=0.0 will be ignored. Current value: lambda_l1=0.002477866490667525\n",
      "[LightGBM] [Warning] lambda_l2 is set=2.3052514525674056e-06, reg_lambda=0.0 will be ignored. Current value: lambda_l2=2.3052514525674056e-06\n",
      "[LightGBM] [Warning] bagging_fraction is set=0.5550229971836489, subsample=1.0 will be ignored. Current value: bagging_fraction=0.5550229971836489\n",
      "[LightGBM] [Warning] bagging_freq is set=7, subsample_freq=0 will be ignored. Current value: bagging_freq=7\n",
      "[LightGBM] [Info] Auto-choosing col-wise multi-threading, the overhead of testing was 0.072152 seconds.\n",
      "You can set `force_col_wise=true` to remove the overhead.\n",
      "[LightGBM] [Info] Total Bins 2119\n",
      "[LightGBM] [Info] Number of data points in the train set: 712500, number of used features: 197\n",
      "[LightGBM] [Warning] feature_fraction is set=0.9450630242019847, colsample_bytree=1.0 will be ignored. Current value: feature_fraction=0.9450630242019847\n",
      "[LightGBM] [Warning] lambda_l1 is set=0.002477866490667525, reg_alpha=0.0 will be ignored. Current value: lambda_l1=0.002477866490667525\n",
      "[LightGBM] [Warning] lambda_l2 is set=2.3052514525674056e-06, reg_lambda=0.0 will be ignored. Current value: lambda_l2=2.3052514525674056e-06\n",
      "[LightGBM] [Warning] bagging_fraction is set=0.5550229971836489, subsample=1.0 will be ignored. Current value: bagging_fraction=0.5550229971836489\n",
      "[LightGBM] [Warning] bagging_freq is set=7, subsample_freq=0 will be ignored. Current value: bagging_freq=7\n",
      "[LightGBM] [Info] Start training from score 45.446445\n",
      "Training until validation scores don't improve for 100 rounds\n",
      "Early stopping, best iteration is:\n",
      "[861]\tvalid_0's rmse: 12.8318\tvalid_0's l2: 164.656\n"
     ]
    },
    {
     "name": "stderr",
     "output_type": "stream",
     "text": [
      "C:\\Users\\Home\\PycharmProjects\\DSC-project\\.venv\\Lib\\site-packages\\sklearn\\utils\\validation.py:2749: UserWarning: X does not have valid feature names, but LGBMRegressor was fitted with feature names\n",
      "  warnings.warn(\n"
     ]
    },
    {
     "name": "stdout",
     "output_type": "stream",
     "text": [
      "[LightGBM] [Warning] feature_fraction is set=0.9450630242019847, colsample_bytree=1.0 will be ignored. Current value: feature_fraction=0.9450630242019847\n",
      "[LightGBM] [Warning] lambda_l1 is set=0.002477866490667525, reg_alpha=0.0 will be ignored. Current value: lambda_l1=0.002477866490667525\n",
      "[LightGBM] [Warning] lambda_l2 is set=2.3052514525674056e-06, reg_lambda=0.0 will be ignored. Current value: lambda_l2=2.3052514525674056e-06\n",
      "[LightGBM] [Warning] bagging_fraction is set=0.5550229971836489, subsample=1.0 will be ignored. Current value: bagging_fraction=0.5550229971836489\n",
      "[LightGBM] [Warning] bagging_freq is set=7, subsample_freq=0 will be ignored. Current value: bagging_freq=7\n",
      "Fold 16 RMSE: 12.8318\n",
      "[LightGBM] [Warning] feature_fraction is set=0.9450630242019847, colsample_bytree=1.0 will be ignored. Current value: feature_fraction=0.9450630242019847\n",
      "[LightGBM] [Warning] lambda_l1 is set=0.002477866490667525, reg_alpha=0.0 will be ignored. Current value: lambda_l1=0.002477866490667525\n",
      "[LightGBM] [Warning] lambda_l2 is set=2.3052514525674056e-06, reg_lambda=0.0 will be ignored. Current value: lambda_l2=2.3052514525674056e-06\n",
      "[LightGBM] [Warning] bagging_fraction is set=0.5550229971836489, subsample=1.0 will be ignored. Current value: bagging_fraction=0.5550229971836489\n",
      "[LightGBM] [Warning] bagging_freq is set=7, subsample_freq=0 will be ignored. Current value: bagging_freq=7\n"
     ]
    },
    {
     "name": "stderr",
     "output_type": "stream",
     "text": [
      "C:\\Users\\Home\\PycharmProjects\\DSC-project\\.venv\\Lib\\site-packages\\sklearn\\utils\\validation.py:2749: UserWarning: X does not have valid feature names, but LGBMRegressor was fitted with feature names\n",
      "  warnings.warn(\n"
     ]
    },
    {
     "name": "stdout",
     "output_type": "stream",
     "text": [
      "[LightGBM] [Warning] feature_fraction is set=0.9450630242019847, colsample_bytree=1.0 will be ignored. Current value: feature_fraction=0.9450630242019847\n",
      "[LightGBM] [Warning] lambda_l1 is set=0.002477866490667525, reg_alpha=0.0 will be ignored. Current value: lambda_l1=0.002477866490667525\n",
      "[LightGBM] [Warning] lambda_l2 is set=2.3052514525674056e-06, reg_lambda=0.0 will be ignored. Current value: lambda_l2=2.3052514525674056e-06\n",
      "[LightGBM] [Warning] bagging_fraction is set=0.5550229971836489, subsample=1.0 will be ignored. Current value: bagging_fraction=0.5550229971836489\n",
      "[LightGBM] [Warning] bagging_freq is set=7, subsample_freq=0 will be ignored. Current value: bagging_freq=7\n",
      "[LightGBM] [Warning] feature_fraction is set=0.9450630242019847, colsample_bytree=1.0 will be ignored. Current value: feature_fraction=0.9450630242019847\n",
      "[LightGBM] [Warning] lambda_l1 is set=0.002477866490667525, reg_alpha=0.0 will be ignored. Current value: lambda_l1=0.002477866490667525\n",
      "[LightGBM] [Warning] lambda_l2 is set=2.3052514525674056e-06, reg_lambda=0.0 will be ignored. Current value: lambda_l2=2.3052514525674056e-06\n",
      "[LightGBM] [Warning] bagging_fraction is set=0.5550229971836489, subsample=1.0 will be ignored. Current value: bagging_fraction=0.5550229971836489\n",
      "[LightGBM] [Warning] bagging_freq is set=7, subsample_freq=0 will be ignored. Current value: bagging_freq=7\n",
      "[LightGBM] [Info] Auto-choosing row-wise multi-threading, the overhead of testing was 0.012285 seconds.\n",
      "You can set `force_row_wise=true` to remove the overhead.\n",
      "And if memory is not enough, you can set `force_col_wise=true`.\n",
      "[LightGBM] [Info] Total Bins 2119\n",
      "[LightGBM] [Info] Number of data points in the train set: 712500, number of used features: 197\n",
      "[LightGBM] [Warning] feature_fraction is set=0.9450630242019847, colsample_bytree=1.0 will be ignored. Current value: feature_fraction=0.9450630242019847\n",
      "[LightGBM] [Warning] lambda_l1 is set=0.002477866490667525, reg_alpha=0.0 will be ignored. Current value: lambda_l1=0.002477866490667525\n",
      "[LightGBM] [Warning] lambda_l2 is set=2.3052514525674056e-06, reg_lambda=0.0 will be ignored. Current value: lambda_l2=2.3052514525674056e-06\n",
      "[LightGBM] [Warning] bagging_fraction is set=0.5550229971836489, subsample=1.0 will be ignored. Current value: bagging_fraction=0.5550229971836489\n",
      "[LightGBM] [Warning] bagging_freq is set=7, subsample_freq=0 will be ignored. Current value: bagging_freq=7\n",
      "[LightGBM] [Info] Start training from score 45.430250\n",
      "Training until validation scores don't improve for 100 rounds\n",
      "Early stopping, best iteration is:\n",
      "[959]\tvalid_0's rmse: 12.849\tvalid_0's l2: 165.097\n"
     ]
    },
    {
     "name": "stderr",
     "output_type": "stream",
     "text": [
      "C:\\Users\\Home\\PycharmProjects\\DSC-project\\.venv\\Lib\\site-packages\\sklearn\\utils\\validation.py:2749: UserWarning: X does not have valid feature names, but LGBMRegressor was fitted with feature names\n",
      "  warnings.warn(\n"
     ]
    },
    {
     "name": "stdout",
     "output_type": "stream",
     "text": [
      "[LightGBM] [Warning] feature_fraction is set=0.9450630242019847, colsample_bytree=1.0 will be ignored. Current value: feature_fraction=0.9450630242019847\n",
      "[LightGBM] [Warning] lambda_l1 is set=0.002477866490667525, reg_alpha=0.0 will be ignored. Current value: lambda_l1=0.002477866490667525\n",
      "[LightGBM] [Warning] lambda_l2 is set=2.3052514525674056e-06, reg_lambda=0.0 will be ignored. Current value: lambda_l2=2.3052514525674056e-06\n",
      "[LightGBM] [Warning] bagging_fraction is set=0.5550229971836489, subsample=1.0 will be ignored. Current value: bagging_fraction=0.5550229971836489\n",
      "[LightGBM] [Warning] bagging_freq is set=7, subsample_freq=0 will be ignored. Current value: bagging_freq=7\n",
      "Fold 17 RMSE: 12.8490\n",
      "[LightGBM] [Warning] feature_fraction is set=0.9450630242019847, colsample_bytree=1.0 will be ignored. Current value: feature_fraction=0.9450630242019847\n",
      "[LightGBM] [Warning] lambda_l1 is set=0.002477866490667525, reg_alpha=0.0 will be ignored. Current value: lambda_l1=0.002477866490667525\n",
      "[LightGBM] [Warning] lambda_l2 is set=2.3052514525674056e-06, reg_lambda=0.0 will be ignored. Current value: lambda_l2=2.3052514525674056e-06\n",
      "[LightGBM] [Warning] bagging_fraction is set=0.5550229971836489, subsample=1.0 will be ignored. Current value: bagging_fraction=0.5550229971836489\n",
      "[LightGBM] [Warning] bagging_freq is set=7, subsample_freq=0 will be ignored. Current value: bagging_freq=7\n"
     ]
    },
    {
     "name": "stderr",
     "output_type": "stream",
     "text": [
      "C:\\Users\\Home\\PycharmProjects\\DSC-project\\.venv\\Lib\\site-packages\\sklearn\\utils\\validation.py:2749: UserWarning: X does not have valid feature names, but LGBMRegressor was fitted with feature names\n",
      "  warnings.warn(\n"
     ]
    },
    {
     "name": "stdout",
     "output_type": "stream",
     "text": [
      "[LightGBM] [Warning] feature_fraction is set=0.9450630242019847, colsample_bytree=1.0 will be ignored. Current value: feature_fraction=0.9450630242019847\n",
      "[LightGBM] [Warning] lambda_l1 is set=0.002477866490667525, reg_alpha=0.0 will be ignored. Current value: lambda_l1=0.002477866490667525\n",
      "[LightGBM] [Warning] lambda_l2 is set=2.3052514525674056e-06, reg_lambda=0.0 will be ignored. Current value: lambda_l2=2.3052514525674056e-06\n",
      "[LightGBM] [Warning] bagging_fraction is set=0.5550229971836489, subsample=1.0 will be ignored. Current value: bagging_fraction=0.5550229971836489\n",
      "[LightGBM] [Warning] bagging_freq is set=7, subsample_freq=0 will be ignored. Current value: bagging_freq=7\n",
      "[LightGBM] [Warning] feature_fraction is set=0.9450630242019847, colsample_bytree=1.0 will be ignored. Current value: feature_fraction=0.9450630242019847\n",
      "[LightGBM] [Warning] lambda_l1 is set=0.002477866490667525, reg_alpha=0.0 will be ignored. Current value: lambda_l1=0.002477866490667525\n",
      "[LightGBM] [Warning] lambda_l2 is set=2.3052514525674056e-06, reg_lambda=0.0 will be ignored. Current value: lambda_l2=2.3052514525674056e-06\n",
      "[LightGBM] [Warning] bagging_fraction is set=0.5550229971836489, subsample=1.0 will be ignored. Current value: bagging_fraction=0.5550229971836489\n",
      "[LightGBM] [Warning] bagging_freq is set=7, subsample_freq=0 will be ignored. Current value: bagging_freq=7\n",
      "[LightGBM] [Info] Auto-choosing col-wise multi-threading, the overhead of testing was 0.083905 seconds.\n",
      "You can set `force_col_wise=true` to remove the overhead.\n",
      "[LightGBM] [Info] Total Bins 2119\n",
      "[LightGBM] [Info] Number of data points in the train set: 712500, number of used features: 197\n",
      "[LightGBM] [Warning] feature_fraction is set=0.9450630242019847, colsample_bytree=1.0 will be ignored. Current value: feature_fraction=0.9450630242019847\n",
      "[LightGBM] [Warning] lambda_l1 is set=0.002477866490667525, reg_alpha=0.0 will be ignored. Current value: lambda_l1=0.002477866490667525\n",
      "[LightGBM] [Warning] lambda_l2 is set=2.3052514525674056e-06, reg_lambda=0.0 will be ignored. Current value: lambda_l2=2.3052514525674056e-06\n",
      "[LightGBM] [Warning] bagging_fraction is set=0.5550229971836489, subsample=1.0 will be ignored. Current value: bagging_fraction=0.5550229971836489\n",
      "[LightGBM] [Warning] bagging_freq is set=7, subsample_freq=0 will be ignored. Current value: bagging_freq=7\n",
      "[LightGBM] [Info] Start training from score 45.435788\n",
      "Training until validation scores don't improve for 100 rounds\n",
      "Early stopping, best iteration is:\n",
      "[1271]\tvalid_0's rmse: 12.9467\tvalid_0's l2: 167.617\n"
     ]
    },
    {
     "name": "stderr",
     "output_type": "stream",
     "text": [
      "C:\\Users\\Home\\PycharmProjects\\DSC-project\\.venv\\Lib\\site-packages\\sklearn\\utils\\validation.py:2749: UserWarning: X does not have valid feature names, but LGBMRegressor was fitted with feature names\n",
      "  warnings.warn(\n"
     ]
    },
    {
     "name": "stdout",
     "output_type": "stream",
     "text": [
      "[LightGBM] [Warning] feature_fraction is set=0.9450630242019847, colsample_bytree=1.0 will be ignored. Current value: feature_fraction=0.9450630242019847\n",
      "[LightGBM] [Warning] lambda_l1 is set=0.002477866490667525, reg_alpha=0.0 will be ignored. Current value: lambda_l1=0.002477866490667525\n",
      "[LightGBM] [Warning] lambda_l2 is set=2.3052514525674056e-06, reg_lambda=0.0 will be ignored. Current value: lambda_l2=2.3052514525674056e-06\n",
      "[LightGBM] [Warning] bagging_fraction is set=0.5550229971836489, subsample=1.0 will be ignored. Current value: bagging_fraction=0.5550229971836489\n",
      "[LightGBM] [Warning] bagging_freq is set=7, subsample_freq=0 will be ignored. Current value: bagging_freq=7\n",
      "Fold 18 RMSE: 12.9467\n",
      "[LightGBM] [Warning] feature_fraction is set=0.9450630242019847, colsample_bytree=1.0 will be ignored. Current value: feature_fraction=0.9450630242019847\n",
      "[LightGBM] [Warning] lambda_l1 is set=0.002477866490667525, reg_alpha=0.0 will be ignored. Current value: lambda_l1=0.002477866490667525\n",
      "[LightGBM] [Warning] lambda_l2 is set=2.3052514525674056e-06, reg_lambda=0.0 will be ignored. Current value: lambda_l2=2.3052514525674056e-06\n",
      "[LightGBM] [Warning] bagging_fraction is set=0.5550229971836489, subsample=1.0 will be ignored. Current value: bagging_fraction=0.5550229971836489\n",
      "[LightGBM] [Warning] bagging_freq is set=7, subsample_freq=0 will be ignored. Current value: bagging_freq=7\n"
     ]
    },
    {
     "name": "stderr",
     "output_type": "stream",
     "text": [
      "C:\\Users\\Home\\PycharmProjects\\DSC-project\\.venv\\Lib\\site-packages\\sklearn\\utils\\validation.py:2749: UserWarning: X does not have valid feature names, but LGBMRegressor was fitted with feature names\n",
      "  warnings.warn(\n"
     ]
    },
    {
     "name": "stdout",
     "output_type": "stream",
     "text": [
      "[LightGBM] [Warning] feature_fraction is set=0.9450630242019847, colsample_bytree=1.0 will be ignored. Current value: feature_fraction=0.9450630242019847\n",
      "[LightGBM] [Warning] lambda_l1 is set=0.002477866490667525, reg_alpha=0.0 will be ignored. Current value: lambda_l1=0.002477866490667525\n",
      "[LightGBM] [Warning] lambda_l2 is set=2.3052514525674056e-06, reg_lambda=0.0 will be ignored. Current value: lambda_l2=2.3052514525674056e-06\n",
      "[LightGBM] [Warning] bagging_fraction is set=0.5550229971836489, subsample=1.0 will be ignored. Current value: bagging_fraction=0.5550229971836489\n",
      "[LightGBM] [Warning] bagging_freq is set=7, subsample_freq=0 will be ignored. Current value: bagging_freq=7\n",
      "[LightGBM] [Warning] feature_fraction is set=0.9450630242019847, colsample_bytree=1.0 will be ignored. Current value: feature_fraction=0.9450630242019847\n",
      "[LightGBM] [Warning] lambda_l1 is set=0.002477866490667525, reg_alpha=0.0 will be ignored. Current value: lambda_l1=0.002477866490667525\n",
      "[LightGBM] [Warning] lambda_l2 is set=2.3052514525674056e-06, reg_lambda=0.0 will be ignored. Current value: lambda_l2=2.3052514525674056e-06\n",
      "[LightGBM] [Warning] bagging_fraction is set=0.5550229971836489, subsample=1.0 will be ignored. Current value: bagging_fraction=0.5550229971836489\n",
      "[LightGBM] [Warning] bagging_freq is set=7, subsample_freq=0 will be ignored. Current value: bagging_freq=7\n",
      "[LightGBM] [Info] Auto-choosing row-wise multi-threading, the overhead of testing was 0.018163 seconds.\n",
      "You can set `force_row_wise=true` to remove the overhead.\n",
      "And if memory is not enough, you can set `force_col_wise=true`.\n",
      "[LightGBM] [Info] Total Bins 2119\n",
      "[LightGBM] [Info] Number of data points in the train set: 712500, number of used features: 197\n",
      "[LightGBM] [Warning] feature_fraction is set=0.9450630242019847, colsample_bytree=1.0 will be ignored. Current value: feature_fraction=0.9450630242019847\n",
      "[LightGBM] [Warning] lambda_l1 is set=0.002477866490667525, reg_alpha=0.0 will be ignored. Current value: lambda_l1=0.002477866490667525\n",
      "[LightGBM] [Warning] lambda_l2 is set=2.3052514525674056e-06, reg_lambda=0.0 will be ignored. Current value: lambda_l2=2.3052514525674056e-06\n",
      "[LightGBM] [Warning] bagging_fraction is set=0.5550229971836489, subsample=1.0 will be ignored. Current value: bagging_fraction=0.5550229971836489\n",
      "[LightGBM] [Warning] bagging_freq is set=7, subsample_freq=0 will be ignored. Current value: bagging_freq=7\n",
      "[LightGBM] [Info] Start training from score 45.432201\n",
      "Training until validation scores don't improve for 100 rounds\n",
      "Early stopping, best iteration is:\n",
      "[874]\tvalid_0's rmse: 12.9606\tvalid_0's l2: 167.977\n"
     ]
    },
    {
     "name": "stderr",
     "output_type": "stream",
     "text": [
      "C:\\Users\\Home\\PycharmProjects\\DSC-project\\.venv\\Lib\\site-packages\\sklearn\\utils\\validation.py:2749: UserWarning: X does not have valid feature names, but LGBMRegressor was fitted with feature names\n",
      "  warnings.warn(\n"
     ]
    },
    {
     "name": "stdout",
     "output_type": "stream",
     "text": [
      "[LightGBM] [Warning] feature_fraction is set=0.9450630242019847, colsample_bytree=1.0 will be ignored. Current value: feature_fraction=0.9450630242019847\n",
      "[LightGBM] [Warning] lambda_l1 is set=0.002477866490667525, reg_alpha=0.0 will be ignored. Current value: lambda_l1=0.002477866490667525\n",
      "[LightGBM] [Warning] lambda_l2 is set=2.3052514525674056e-06, reg_lambda=0.0 will be ignored. Current value: lambda_l2=2.3052514525674056e-06\n",
      "[LightGBM] [Warning] bagging_fraction is set=0.5550229971836489, subsample=1.0 will be ignored. Current value: bagging_fraction=0.5550229971836489\n",
      "[LightGBM] [Warning] bagging_freq is set=7, subsample_freq=0 will be ignored. Current value: bagging_freq=7\n",
      "Fold 19 RMSE: 12.9606\n",
      "[LightGBM] [Warning] feature_fraction is set=0.9450630242019847, colsample_bytree=1.0 will be ignored. Current value: feature_fraction=0.9450630242019847\n",
      "[LightGBM] [Warning] lambda_l1 is set=0.002477866490667525, reg_alpha=0.0 will be ignored. Current value: lambda_l1=0.002477866490667525\n",
      "[LightGBM] [Warning] lambda_l2 is set=2.3052514525674056e-06, reg_lambda=0.0 will be ignored. Current value: lambda_l2=2.3052514525674056e-06\n",
      "[LightGBM] [Warning] bagging_fraction is set=0.5550229971836489, subsample=1.0 will be ignored. Current value: bagging_fraction=0.5550229971836489\n",
      "[LightGBM] [Warning] bagging_freq is set=7, subsample_freq=0 will be ignored. Current value: bagging_freq=7\n"
     ]
    },
    {
     "name": "stderr",
     "output_type": "stream",
     "text": [
      "C:\\Users\\Home\\PycharmProjects\\DSC-project\\.venv\\Lib\\site-packages\\sklearn\\utils\\validation.py:2749: UserWarning: X does not have valid feature names, but LGBMRegressor was fitted with feature names\n",
      "  warnings.warn(\n"
     ]
    },
    {
     "name": "stdout",
     "output_type": "stream",
     "text": [
      "[LightGBM] [Warning] feature_fraction is set=0.9450630242019847, colsample_bytree=1.0 will be ignored. Current value: feature_fraction=0.9450630242019847\n",
      "[LightGBM] [Warning] lambda_l1 is set=0.002477866490667525, reg_alpha=0.0 will be ignored. Current value: lambda_l1=0.002477866490667525\n",
      "[LightGBM] [Warning] lambda_l2 is set=2.3052514525674056e-06, reg_lambda=0.0 will be ignored. Current value: lambda_l2=2.3052514525674056e-06\n",
      "[LightGBM] [Warning] bagging_fraction is set=0.5550229971836489, subsample=1.0 will be ignored. Current value: bagging_fraction=0.5550229971836489\n",
      "[LightGBM] [Warning] bagging_freq is set=7, subsample_freq=0 will be ignored. Current value: bagging_freq=7\n",
      "[LightGBM] [Warning] feature_fraction is set=0.9450630242019847, colsample_bytree=1.0 will be ignored. Current value: feature_fraction=0.9450630242019847\n",
      "[LightGBM] [Warning] lambda_l1 is set=0.002477866490667525, reg_alpha=0.0 will be ignored. Current value: lambda_l1=0.002477866490667525\n",
      "[LightGBM] [Warning] lambda_l2 is set=2.3052514525674056e-06, reg_lambda=0.0 will be ignored. Current value: lambda_l2=2.3052514525674056e-06\n",
      "[LightGBM] [Warning] bagging_fraction is set=0.5550229971836489, subsample=1.0 will be ignored. Current value: bagging_fraction=0.5550229971836489\n",
      "[LightGBM] [Warning] bagging_freq is set=7, subsample_freq=0 will be ignored. Current value: bagging_freq=7\n",
      "[LightGBM] [Info] Auto-choosing row-wise multi-threading, the overhead of testing was 0.016051 seconds.\n",
      "You can set `force_row_wise=true` to remove the overhead.\n",
      "And if memory is not enough, you can set `force_col_wise=true`.\n",
      "[LightGBM] [Info] Total Bins 2119\n",
      "[LightGBM] [Info] Number of data points in the train set: 712500, number of used features: 197\n",
      "[LightGBM] [Warning] feature_fraction is set=0.9450630242019847, colsample_bytree=1.0 will be ignored. Current value: feature_fraction=0.9450630242019847\n",
      "[LightGBM] [Warning] lambda_l1 is set=0.002477866490667525, reg_alpha=0.0 will be ignored. Current value: lambda_l1=0.002477866490667525\n",
      "[LightGBM] [Warning] lambda_l2 is set=2.3052514525674056e-06, reg_lambda=0.0 will be ignored. Current value: lambda_l2=2.3052514525674056e-06\n",
      "[LightGBM] [Warning] bagging_fraction is set=0.5550229971836489, subsample=1.0 will be ignored. Current value: bagging_fraction=0.5550229971836489\n",
      "[LightGBM] [Warning] bagging_freq is set=7, subsample_freq=0 will be ignored. Current value: bagging_freq=7\n",
      "[LightGBM] [Info] Start training from score 45.441526\n",
      "Training until validation scores don't improve for 100 rounds\n",
      "Early stopping, best iteration is:\n",
      "[1202]\tvalid_0's rmse: 12.827\tvalid_0's l2: 164.533\n"
     ]
    },
    {
     "name": "stderr",
     "output_type": "stream",
     "text": [
      "C:\\Users\\Home\\PycharmProjects\\DSC-project\\.venv\\Lib\\site-packages\\sklearn\\utils\\validation.py:2749: UserWarning: X does not have valid feature names, but LGBMRegressor was fitted with feature names\n",
      "  warnings.warn(\n"
     ]
    },
    {
     "name": "stdout",
     "output_type": "stream",
     "text": [
      "[LightGBM] [Warning] feature_fraction is set=0.9450630242019847, colsample_bytree=1.0 will be ignored. Current value: feature_fraction=0.9450630242019847\n",
      "[LightGBM] [Warning] lambda_l1 is set=0.002477866490667525, reg_alpha=0.0 will be ignored. Current value: lambda_l1=0.002477866490667525\n",
      "[LightGBM] [Warning] lambda_l2 is set=2.3052514525674056e-06, reg_lambda=0.0 will be ignored. Current value: lambda_l2=2.3052514525674056e-06\n",
      "[LightGBM] [Warning] bagging_fraction is set=0.5550229971836489, subsample=1.0 will be ignored. Current value: bagging_fraction=0.5550229971836489\n",
      "[LightGBM] [Warning] bagging_freq is set=7, subsample_freq=0 will be ignored. Current value: bagging_freq=7\n",
      "Fold 20 RMSE: 12.8270\n",
      "[LightGBM] [Warning] feature_fraction is set=0.9450630242019847, colsample_bytree=1.0 will be ignored. Current value: feature_fraction=0.9450630242019847\n",
      "[LightGBM] [Warning] lambda_l1 is set=0.002477866490667525, reg_alpha=0.0 will be ignored. Current value: lambda_l1=0.002477866490667525\n",
      "[LightGBM] [Warning] lambda_l2 is set=2.3052514525674056e-06, reg_lambda=0.0 will be ignored. Current value: lambda_l2=2.3052514525674056e-06\n",
      "[LightGBM] [Warning] bagging_fraction is set=0.5550229971836489, subsample=1.0 will be ignored. Current value: bagging_fraction=0.5550229971836489\n",
      "[LightGBM] [Warning] bagging_freq is set=7, subsample_freq=0 will be ignored. Current value: bagging_freq=7\n"
     ]
    },
    {
     "name": "stderr",
     "output_type": "stream",
     "text": [
      "C:\\Users\\Home\\PycharmProjects\\DSC-project\\.venv\\Lib\\site-packages\\sklearn\\utils\\validation.py:2749: UserWarning: X does not have valid feature names, but LGBMRegressor was fitted with feature names\n",
      "  warnings.warn(\n"
     ]
    }
   ],
   "execution_count": 3
  },
  {
   "metadata": {
    "ExecuteTime": {
     "end_time": "2025-10-28T22:20:24.252248Z",
     "start_time": "2025-10-28T22:20:22.239869Z"
    }
   },
   "cell_type": "code",
   "source": [
    "\n",
    "print(f\"\\nMean CV RMSE: {np.mean(rmse_scores):.4f}\")\n",
    "\n",
    "# -------------------------\n",
    "# 9. Save averaged predictions\n",
    "# -------------------------\n",
    "if 'id' in test.columns:\n",
    "    sub = pd.DataFrame({'id': test['id'].values, 'Listening_Time_minutes': test_pred})\n",
    "    sub.to_csv('submission_bayesian_2.csv', index=False)\n",
    "    print(\"\\n Saved submission.csv with averaged predictions across folds.\")\n",
    "\n",
    "# cleaning\n",
    "del X_train_full, X_test_full, X_train, X_val\n",
    "gc.collect()"
   ],
   "id": "50ec6161de2fd0b5",
   "outputs": [
    {
     "name": "stdout",
     "output_type": "stream",
     "text": [
      "\n",
      "Mean CV RMSE: 12.8475\n",
      "\n",
      " Saved submission.csv with averaged predictions across folds.\n"
     ]
    },
    {
     "data": {
      "text/plain": [
       "168"
      ]
     },
     "execution_count": 4,
     "metadata": {},
     "output_type": "execute_result"
    }
   ],
   "execution_count": 4
  },
  {
   "metadata": {},
   "cell_type": "code",
   "outputs": [],
   "execution_count": null,
   "source": "",
   "id": "e1f324cf85a2113a"
  }
 ],
 "metadata": {
  "kernelspec": {
   "display_name": "Python 3",
   "language": "python",
   "name": "python3"
  },
  "language_info": {
   "codemirror_mode": {
    "name": "ipython",
    "version": 2
   },
   "file_extension": ".py",
   "mimetype": "text/x-python",
   "name": "python",
   "nbconvert_exporter": "python",
   "pygments_lexer": "ipython2",
   "version": "2.7.6"
  }
 },
 "nbformat": 4,
 "nbformat_minor": 5
}
