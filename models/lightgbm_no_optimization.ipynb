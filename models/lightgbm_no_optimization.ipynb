{
 "cells": [
  {
   "cell_type": "code",
   "execution_count": null,
   "id": "initial_id",
   "metadata": {
    "collapsed": true,
    "jupyter": {
     "outputs_hidden": true
    }
   },
   "outputs": [],
   "source": [
    "import pandas as pd\n",
    "import numpy as np\n",
    "import matplotlib.pyplot as plt\n",
    "import seaborn as sns\n",
    "from numpy.f2py.crackfortran import true_intent_list\n",
    "from sklearn.model_selection import train_test_split, KFold\n",
    "from sklearn.preprocessing import OneHotEncoder, LabelEncoder\n",
    "from sklearn.metrics import mean_squared_error\n",
    "\n"
   ]
  },
  {
   "cell_type": "markdown",
   "id": "2805a90656c090fa",
   "metadata": {},
   "source": [
    "# 1. Load data"
   ]
  },
  {
   "cell_type": "code",
   "execution_count": 33,
   "id": "f27b3d69bbbdd08e",
   "metadata": {
    "ExecuteTime": {
     "end_time": "2025-10-23T09:13:09.005089Z",
     "start_time": "2025-10-23T09:13:06.675854Z"
    }
   },
   "outputs": [
    {
     "name": "stdout",
     "output_type": "stream",
     "text": [
      "train: (750000, 12)\n",
      "test: (250000, 11)\n"
     ]
    }
   ],
   "source": [
    "train = pd.read_csv(\"train.csv\")\n",
    "test = pd.read_csv(\"test.csv\")\n",
    "\n",
    "print(\"train:\", train.shape)\n",
    "print(\"test:\", test.shape)"
   ]
  },
  {
   "cell_type": "markdown",
   "id": "7f0992f873354cb7",
   "metadata": {},
   "source": [
    " # 2. EDA: Basic Exploration"
   ]
  },
  {
   "cell_type": "code",
   "execution_count": 34,
   "id": "d193d255ece607b2",
   "metadata": {
    "ExecuteTime": {
     "end_time": "2025-10-23T09:13:10.937874Z",
     "start_time": "2025-10-23T09:13:10.154424Z"
    }
   },
   "outputs": [
    {
     "name": "stdout",
     "output_type": "stream",
     "text": [
      "id                                  0\n",
      "Podcast_Name                        0\n",
      "Episode_Title                       0\n",
      "Episode_Length_minutes          87093\n",
      "Genre                               0\n",
      "Host_Popularity_percentage          0\n",
      "Publication_Day                     0\n",
      "Publication_Time                    0\n",
      "Guest_Popularity_percentage    146030\n",
      "Number_of_Ads                       1\n",
      "Episode_Sentiment                   0\n",
      "Listening_Time_minutes              0\n",
      "dtype: int64\n"
     ]
    },
    {
     "data": {
      "text/html": [
       "<div>\n",
       "<style scoped>\n",
       "    .dataframe tbody tr th:only-of-type {\n",
       "        vertical-align: middle;\n",
       "    }\n",
       "\n",
       "    .dataframe tbody tr th {\n",
       "        vertical-align: top;\n",
       "    }\n",
       "\n",
       "    .dataframe thead th {\n",
       "        text-align: right;\n",
       "    }\n",
       "</style>\n",
       "<table border=\"1\" class=\"dataframe\">\n",
       "  <thead>\n",
       "    <tr style=\"text-align: right;\">\n",
       "      <th></th>\n",
       "      <th>id</th>\n",
       "      <th>Episode_Length_minutes</th>\n",
       "      <th>Host_Popularity_percentage</th>\n",
       "      <th>Guest_Popularity_percentage</th>\n",
       "      <th>Number_of_Ads</th>\n",
       "      <th>Listening_Time_minutes</th>\n",
       "    </tr>\n",
       "  </thead>\n",
       "  <tbody>\n",
       "    <tr>\n",
       "      <th>count</th>\n",
       "      <td>750000.000000</td>\n",
       "      <td>662907.000000</td>\n",
       "      <td>750000.000000</td>\n",
       "      <td>603970.000000</td>\n",
       "      <td>749999.000000</td>\n",
       "      <td>750000.000000</td>\n",
       "    </tr>\n",
       "    <tr>\n",
       "      <th>mean</th>\n",
       "      <td>374999.500000</td>\n",
       "      <td>64.504738</td>\n",
       "      <td>59.859901</td>\n",
       "      <td>52.236449</td>\n",
       "      <td>1.348855</td>\n",
       "      <td>45.437406</td>\n",
       "    </tr>\n",
       "    <tr>\n",
       "      <th>std</th>\n",
       "      <td>216506.495284</td>\n",
       "      <td>32.969603</td>\n",
       "      <td>22.873098</td>\n",
       "      <td>28.451241</td>\n",
       "      <td>1.151130</td>\n",
       "      <td>27.138306</td>\n",
       "    </tr>\n",
       "    <tr>\n",
       "      <th>min</th>\n",
       "      <td>0.000000</td>\n",
       "      <td>0.000000</td>\n",
       "      <td>1.300000</td>\n",
       "      <td>0.000000</td>\n",
       "      <td>0.000000</td>\n",
       "      <td>0.000000</td>\n",
       "    </tr>\n",
       "    <tr>\n",
       "      <th>25%</th>\n",
       "      <td>187499.750000</td>\n",
       "      <td>35.730000</td>\n",
       "      <td>39.410000</td>\n",
       "      <td>28.380000</td>\n",
       "      <td>0.000000</td>\n",
       "      <td>23.178350</td>\n",
       "    </tr>\n",
       "    <tr>\n",
       "      <th>50%</th>\n",
       "      <td>374999.500000</td>\n",
       "      <td>63.840000</td>\n",
       "      <td>60.050000</td>\n",
       "      <td>53.580000</td>\n",
       "      <td>1.000000</td>\n",
       "      <td>43.379460</td>\n",
       "    </tr>\n",
       "    <tr>\n",
       "      <th>75%</th>\n",
       "      <td>562499.250000</td>\n",
       "      <td>94.070000</td>\n",
       "      <td>79.530000</td>\n",
       "      <td>76.600000</td>\n",
       "      <td>2.000000</td>\n",
       "      <td>64.811580</td>\n",
       "    </tr>\n",
       "    <tr>\n",
       "      <th>max</th>\n",
       "      <td>749999.000000</td>\n",
       "      <td>325.240000</td>\n",
       "      <td>119.460000</td>\n",
       "      <td>119.910000</td>\n",
       "      <td>103.910000</td>\n",
       "      <td>119.970000</td>\n",
       "    </tr>\n",
       "  </tbody>\n",
       "</table>\n",
       "</div>"
      ],
      "text/plain": [
       "                  id  Episode_Length_minutes  Host_Popularity_percentage  \\\n",
       "count  750000.000000           662907.000000               750000.000000   \n",
       "mean   374999.500000               64.504738                   59.859901   \n",
       "std    216506.495284               32.969603                   22.873098   \n",
       "min         0.000000                0.000000                    1.300000   \n",
       "25%    187499.750000               35.730000                   39.410000   \n",
       "50%    374999.500000               63.840000                   60.050000   \n",
       "75%    562499.250000               94.070000                   79.530000   \n",
       "max    749999.000000              325.240000                  119.460000   \n",
       "\n",
       "       Guest_Popularity_percentage  Number_of_Ads  Listening_Time_minutes  \n",
       "count                603970.000000  749999.000000           750000.000000  \n",
       "mean                     52.236449       1.348855               45.437406  \n",
       "std                      28.451241       1.151130               27.138306  \n",
       "min                       0.000000       0.000000                0.000000  \n",
       "25%                      28.380000       0.000000               23.178350  \n",
       "50%                      53.580000       1.000000               43.379460  \n",
       "75%                      76.600000       2.000000               64.811580  \n",
       "max                     119.910000     103.910000              119.970000  "
      ]
     },
     "metadata": {},
     "output_type": "display_data"
    },
    {
     "name": "stdout",
     "output_type": "stream",
     "text": [
      "\n",
      "Podcast_Name — unique: 48\n",
      "\n",
      "Episode_Title — unique: 100\n",
      "\n",
      "Genre — unique: 10\n",
      "\n",
      "Publication_Day — unique: 7\n",
      "\n",
      "Publication_Time — unique: 4\n",
      "\n",
      "Episode_Sentiment — unique: 3\n"
     ]
    }
   ],
   "source": [
    "print(train.isnull().sum())\n",
    "\n",
    "display(train.describe())\n",
    "\n",
    "categorical_features = [\n",
    "    'Podcast_Name', 'Episode_Title', 'Genre',\n",
    "    'Publication_Day', 'Publication_Time',\n",
    "    'Episode_Sentiment'\n",
    "]\n",
    "\n",
    "for col in categorical_features:\n",
    "    print(f\"\\n{col} — unique:\", train[col].nunique())\n"
   ]
  },
  {
   "cell_type": "markdown",
   "id": "df25e04bd53adc9b",
   "metadata": {},
   "source": [
    "# 3. Preprocess"
   ]
  },
  {
   "cell_type": "code",
   "execution_count": 35,
   "id": "ad05c0b053a5037e",
   "metadata": {
    "ExecuteTime": {
     "end_time": "2025-10-23T09:13:15.330190Z",
     "start_time": "2025-10-23T09:13:12.799723Z"
    }
   },
   "outputs": [],
   "source": [
    "missing_values_columns = [\"Episode_Length_minutes\", \"Number_of_Ads\"]\n",
    "\n",
    "\n",
    "for col in missing_values_columns:\n",
    "    train[f'{col}_IS_IMPUTED'] = train[col].isnull().astype(int)\n",
    "    test[f'{col}_IS_IMPUTED'] = test[col].isnull().astype(int)\n",
    "    med = train[col].median()\n",
    "    train[col] = train[col].fillna(med)\n",
    "    test[col]  = test[col].fillna(med)\n",
    "\n",
    "# Guest/host popularity\n",
    "train['Guest_Popularity_percentage'] = train['Guest_Popularity_percentage'].fillna(0.0)\n",
    "test['Guest_Popularity_percentage'] = test['Guest_Popularity_percentage'].fillna(0.0)\n",
    "train['Host_Popularity_percentage'] = train['Host_Popularity_percentage'].fillna(0.0)\n",
    "test['Host_Popularity_percentage']  = test['Host_Popularity_percentage'].fillna(0.0)\n",
    "\n",
    "# Episode_Title: fill in the blank rows for TF-IDF\n",
    "train['Episode_Title'] = train['Episode_Title'].fillna('missing').astype(str)\n",
    "test['Episode_Title']  = test['Episode_Title'].fillna('missing').astype(str)\n",
    "\n",
    "eps = 1e-6\n",
    "for df in (train, test):\n",
    "    df['Popularity_Combined'] = df.get('Host_Popularity_percentage', 0.0) + df.get('Guest_Popularity_percentage', 0.0)\n",
    "    df['Ads_per_Minute'] = df['Number_of_Ads'] / (df['Episode_Length_minutes'] + eps)\n",
    "    df['Ads_per_Minute'] = df['Ads_per_Minute'].fillna(0.0)\n",
    "    df['Len_div_ads'] = df['Episode_Length_minutes'] / (df['Number_of_Ads'] + 1.0)\n",
    "    df['Has_Guest'] = (df.get('Guest_Popularity_percentage', 0.0) > 0).astype(int)\n",
    "\n",
    "def extract_episode_number_safe(title):\n",
    "    if pd.isna(title):\n",
    "        return 0\n",
    "    m = re.search(r'(\\d{1,5})\\b(?!.*\\d)', str(title))\n",
    "    return int(m.group(1)) if m else 0\n",
    "\n",
    "train['Episode_Number'] = train['Episode_Title'].apply(extract_episode_number_safe)\n",
    "test['Episode_Number']  = test['Episode_Title'].apply(extract_episode_number_safe)\n",
    "\n",
    "# Ads_Groups\n",
    "bins = [ -1, 1, 2, 104 ]  # include -1 so 0 goes to first bin\n",
    "labels = ['0-1', '1-2', '2+']\n",
    "train['Ads_Groups'] = pd.cut(train['Number_of_Ads'], bins=bins, labels=labels)\n",
    "test['Ads_Groups']  = pd.cut(test['Number_of_Ads'], bins=bins, labels=labels)\n",
    "train['Ads_Groups'] = train['Ads_Groups'].fillna('0-1')\n",
    "test['Ads_Groups']  = test['Ads_Groups'].fillna('0-1')\n",
    "\n",
    "\n",
    "train = train[train['Episode_Length_minutes'] < 150 ]\n",
    "test = test[test['Episode_Length_minutes'] < 150 ]\n",
    "\n",
    "train = train[train['Listening_Time_minutes'] > 0]\n"
   ]
  },
  {
   "cell_type": "code",
   "execution_count": null,
   "id": "4ec6b882e0ef8885",
   "metadata": {},
   "outputs": [],
   "source": []
  },
  {
   "cell_type": "code",
   "execution_count": null,
   "id": "6f41e58db9cbec87",
   "metadata": {},
   "outputs": [],
   "source": [
    "train = train.drop('Number_of_Ads', axis=1)\n",
    "test = test.drop('Number_of_Ads', axis=1)\n",
    "train = np.log1p(train['Listening_Time_minutes'])\n"
   ]
  },
  {
   "cell_type": "code",
   "execution_count": null,
   "id": "657b423c26d01e88",
   "metadata": {},
   "outputs": [],
   "source": [
    "# train = np.log1p(train['Listening_Time_minutes'])\n",
    "sns.histplot(data=train, x='Episode_Length_minutes')\n"
   ]
  },
  {
   "cell_type": "code",
   "execution_count": 12,
   "id": "86cd2b0ca0d5b534",
   "metadata": {
    "ExecuteTime": {
     "end_time": "2025-10-23T09:00:31.467779Z",
     "start_time": "2025-10-23T09:00:31.285321Z"
    }
   },
   "outputs": [
    {
     "data": {
      "text/plain": [
       "Listening_Time_minutes\n",
       "0.00000     8551\n",
       "5.82000      124\n",
       "10.55000     108\n",
       "8.75000      108\n",
       "19.71000      98\n",
       "            ... \n",
       "90.89242       3\n",
       "58.15856       3\n",
       "50.74736       2\n",
       "21.75737       2\n",
       "69.18963       2\n",
       "Name: count, Length: 42807, dtype: int64"
      ]
     },
     "execution_count": 12,
     "metadata": {},
     "output_type": "execute_result"
    }
   ],
   "source": [
    "train[\"Listening_Time_minutes\"].value_counts()"
   ]
  },
  {
   "cell_type": "markdown",
   "id": "d263eb576bbab2d8",
   "metadata": {},
   "source": [
    "Train"
   ]
  },
  {
   "cell_type": "code",
   "execution_count": 36,
   "id": "309469b51680cf7e",
   "metadata": {
    "ExecuteTime": {
     "end_time": "2025-10-23T09:14:03.212788Z",
     "start_time": "2025-10-23T09:14:02.141965Z"
    }
   },
   "outputs": [
    {
     "name": "stdout",
     "output_type": "stream",
     "text": [
      "Train shape: (599999, 18), Validation shape: (150000, 18)\n",
      "y_train shape: (599999,)\n"
     ]
    }
   ],
   "source": [
    "y = train['Listening_Time_minutes']\n",
    "X = train.drop(columns=['id', 'Listening_Time_minutes'])\n",
    "\n",
    "\n",
    "X_train, X_val, y_train, y_val = train_test_split(\n",
    "    X, y,\n",
    "    test_size=0.2, # 20% for validation\n",
    "    random_state=42 # for reproducible results\n",
    ")\n",
    "\n",
    "print(f\"Train shape: {X_train.shape}, Validation shape: {X_val.shape}\")\n",
    "print(\"y_train shape:\", y_train.shape)\n"
   ]
  },
  {
   "cell_type": "code",
   "execution_count": 37,
   "id": "c553e7f3b8bacf4f",
   "metadata": {
    "ExecuteTime": {
     "end_time": "2025-10-23T09:14:18.810980Z",
     "start_time": "2025-10-23T09:14:04.925358Z"
    }
   },
   "outputs": [
    {
     "name": "stdout",
     "output_type": "stream",
     "text": [
      "[LightGBM] [Info] Auto-choosing row-wise multi-threading, the overhead of testing was 0.008579 seconds.\n",
      "You can set `force_row_wise=true` to remove the overhead.\n",
      "And if memory is not enough, you can set `force_col_wise=true`.\n",
      "[LightGBM] [Info] Total Bins 1820\n",
      "[LightGBM] [Info] Number of data points in the train set: 599999, number of used features: 17\n",
      "[LightGBM] [Info] Start training from score 45.437724\n",
      "\n",
      "--- Model Evaluation ---\n",
      "Validation RMSE: 12.9243\n"
     ]
    }
   ],
   "source": [
    "import lightgbm as lgb\n",
    "\n",
    "encoder = {}\n",
    "X_train_enc = X_train.copy()\n",
    "X_val_enc = X_val.copy()\n",
    "\n",
    "for col in categorical_features:\n",
    "    le = LabelEncoder()\n",
    "    X_train_enc[col] = le.fit_transform(X_train[col].astype(str))\n",
    "    X_val_enc[col] = le.transform(X_val[col].astype(str))\n",
    "    encoder[col] = le\n",
    "\n",
    "X_train_encoded = X_train_enc\n",
    "X_val_encoded = X_val_enc\n",
    "\n",
    "model = lgb.LGBMRegressor(\n",
    "    random_state=42,\n",
    "    n_estimators=1000,\n",
    "    learning_rate=0.05,\n",
    "    num_leaves=31,\n",
    "    n_jobs=-1\n",
    ")\n",
    "\n",
    "model.fit(\n",
    "    X_train_encoded,\n",
    "    y_train,\n",
    "    eval_set=[(X_val_encoded, y_val)],\n",
    "    eval_metric='rmse',\n",
    "    categorical_feature=categorical_features,\n",
    "    callbacks=[lgb.early_stopping(100, verbose=False)]\n",
    ")\n",
    "\n",
    "val_predictions = model.predict(X_val_encoded)\n",
    "rmse = np.sqrt(mean_squared_error(y_val, val_predictions))\n",
    "\n",
    "print(f\"\\n--- Model Evaluation ---\")\n",
    "print(f\"Validation RMSE: {rmse:.4f}\")"
   ]
  },
  {
   "cell_type": "code",
   "execution_count": null,
   "id": "12aeec4ddee34733",
   "metadata": {},
   "outputs": [],
   "source": []
  },
  {
   "cell_type": "code",
   "execution_count": null,
   "id": "c0762824a6a782c8",
   "metadata": {},
   "outputs": [],
   "source": []
  },
  {
   "cell_type": "code",
   "execution_count": null,
   "id": "9b0d154750425db5",
   "metadata": {},
   "outputs": [],
   "source": [
    "# -*- coding: utf-8 -*-\n",
    "import re\n",
    "import gc\n",
    "import numpy as np\n",
    "import pandas as pd\n",
    "from scipy import sparse\n",
    "from sklearn.model_selection import train_test_split\n",
    "from sklearn.feature_extraction.text import TfidfVectorizer\n",
    "from sklearn.metrics import mean_squared_error\n",
    "import lightgbm as lgb\n",
    "\n",
    "RANDOM_STATE = 42\n",
    "\n",
    "# -------------------------\n",
    "# 0. Load\n",
    "# -------------------------\n",
    "train = pd.read_csv(\"train.csv\")\n",
    "test  = pd.read_csv(\"test.csv\")\n",
    "print(\"train:\", train.shape, \"test:\", test.shape)\n",
    "\n",
    "# -------------------------\n",
    "# 1. Basic processing and imputation\n",
    "# -------------------------\n",
    "# Pass flags + median (calculated on train)\n",
    "missing_values_columns = [\"Episode_Length_minutes\", \"Number_of_Ads\"]\n",
    "for col in missing_values_columns:\n",
    "    train[f'{col}_IS_IMPUTED'] = train[col].isnull().astype(int)\n",
    "    test[f'{col}_IS_IMPUTED'] = test[col].isnull().astype(int)\n",
    "    med = train[col].median()\n",
    "    train[col] = train[col].fillna(med)\n",
    "    test[col]  = test[col].fillna(med)\n",
    "\n",
    "# Guest/host popularity\n",
    "train['Guest_Popularity_percentage'] = train['Guest_Popularity_percentage'].fillna(0.0)\n",
    "test['Guest_Popularity_percentage'] = test['Guest_Popularity_percentage'].fillna(0.0)\n",
    "train['Host_Popularity_percentage'] = train['Host_Popularity_percentage'].fillna(0.0)\n",
    "test['Host_Popularity_percentage']  = test['Host_Popularity_percentage'].fillna(0.0)\n",
    "\n",
    "# Episode_Title: fill in the blank rows for TF-IDF\n",
    "train['Episode_Title'] = train['Episode_Title'].fillna('missing').astype(str)\n",
    "test['Episode_Title']  = test['Episode_Title'].fillna('missing').astype(str)\n",
    "\n",
    "# -------------------------\n",
    "# 2. Derived features\n",
    "# -------------------------\n",
    "eps = 1e-6\n",
    "for df in (train, test):\n",
    "    df['Popularity_Combined'] = df.get('Host_Popularity_percentage', 0.0) + df.get('Guest_Popularity_percentage', 0.0)\n",
    "    df['Ads_per_Minute'] = df['Number_of_Ads'] / (df['Episode_Length_minutes'] + eps)\n",
    "    df['Ads_per_Minute'] = df['Ads_per_Minute'].fillna(0.0)\n",
    "    df['Len_div_ads'] = df['Episode_Length_minutes'] / (df['Number_of_Ads'] + 1.0)\n",
    "    df['Has_Guest'] = (df.get('Guest_Popularity_percentage', 0.0) > 0).astype(int)\n",
    "\n",
    "# Episode number — more reliable parsing of the last number in the header\n",
    "def extract_episode_number_safe(title):\n",
    "    if pd.isna(title):\n",
    "        return 0\n",
    "    m = re.search(r'(\\d{1,5})\\b(?!.*\\d)', str(title))\n",
    "    return int(m.group(1)) if m else 0\n",
    "\n",
    "train['Episode_Number'] = train['Episode_Title'].apply(extract_episode_number_safe)\n",
    "test['Episode_Number']  = test['Episode_Title'].apply(extract_episode_number_safe)\n",
    "\n",
    "# Ads_Groups: binnin\n",
    "bins = [ -1, 1, 2, 104 ]  # include -1 so 0 goes to first bin\n",
    "labels = ['0-1', '1-2', '2+']\n",
    "train['Ads_Groups'] = pd.cut(train['Number_of_Ads'], bins=bins, labels=labels)\n",
    "test['Ads_Groups']  = pd.cut(test['Number_of_Ads'], bins=bins, labels=labels)\n",
    "train['Ads_Groups'] = train['Ads_Groups'].fillna('0-1')\n",
    "test['Ads_Groups']  = test['Ads_Groups'].fillna('0-1')\n",
    "\n",
    "# -------------------------\n",
    "# 3. Category processing (LabelEncoder for small columns) — LightGBM can handle categorical data, but when using sparse TF-IDF, we will pass a clean matrix,\n",
    "#    so we encode as int for tabular categories and use TF-IDF separately.\n",
    "# -------------------------\n",
    "from sklearn.preprocessing import LabelEncoder\n",
    "categorical_small = ['Genre','Publication_Day','Publication_Time','Episode_Sentiment','Ads_Groups']\n",
    "for col in categorical_small:\n",
    "    if col in train.columns:\n",
    "        le = LabelEncoder()\n",
    "        all_values = pd.concat([train[col].astype(str), test[col].astype(str)], axis=0)\n",
    "        le.fit(all_values)\n",
    "        train[col + '_le'] = le.transform(train[col].astype(str))\n",
    "        test[col + '_le']  = le.transform(test[col].astype(str))\n",
    "\n",
    "# -------------------------\n",
    "# 4. TF-IDF for Episode_Title\n",
    "# -------------------------\n",
    "tfidf = TfidfVectorizer(max_features=3000, ngram_range=(1,2), min_df=3)\n",
    "all_titles = pd.concat([train['Episode_Title'], test['Episode_Title']], axis=0)\n",
    "tfidf.fit(all_titles)\n",
    "X_tfidf_train = tfidf.transform(train['Episode_Title'])\n",
    "X_tfidf_test  = tfidf.transform(test['Episode_Title'])\n",
    "\n",
    "# -------------------------\n",
    "# 5.final features\n",
    "# -------------------------\n",
    "tab_features = [\n",
    "    'Episode_Length_minutes','Episode_Length_minutes_IS_IMPUTED',\n",
    "    'Guest_Popularity_percentage','Host_Popularity_percentage',\n",
    "    'Popularity_Combined','Ads_per_Minute','Len_div_ads',\n",
    "    'Episode_Number','Has_Guest'\n",
    "]\n",
    "# add coded categorical\n",
    "tab_features += [c + '_le' for c in categorical_small]\n",
    "\n",
    "# Ensure that all columns are present\n",
    "tab_features = [c for c in tab_features if c in train.columns]\n",
    "\n",
    "X_tab_train = train[tab_features].reset_index(drop=True)\n",
    "X_tab_test  = test[tab_features].reset_index(drop=True)\n",
    "y = train['Listening_Time_minutes'].values  # target at original scale\n",
    "\n",
    "# -------------------------\n",
    "# 6. Combining sparse TF-IDF and tabular features\n",
    "# -------------------------\n",
    "X_tab_train_sparse = sparse.csr_matrix(X_tab_train.values)\n",
    "X_tab_test_sparse  = sparse.csr_matrix(X_tab_test.values)\n",
    "\n",
    "X_train_full = sparse.hstack([X_tab_train_sparse, X_tfidf_train]).tocsr()\n",
    "X_test_full  = sparse.hstack([X_tab_test_sparse, X_tfidf_test]).tocsr()\n",
    "\n",
    "del X_tab_train_sparse, X_tab_test_sparse, X_tfidf_train, X_tfidf_test\n",
    "gc.collect()\n",
    "\n",
    "# -------------------------\n",
    "# 7. Train/val sampling (fear: stratify by no — we use simple splitting with seed)\n",
    "# -------------------------\n",
    "X_train, X_val, y_train, y_val = train_test_split(\n",
    "    X_train_full, y,\n",
    "    test_size=0.2,\n",
    "    random_state=RANDOM_STATE\n",
    ")\n",
    "\n",
    "print(\"X_train shape:\", X_train.shape, \"X_val shape:\", X_val.shape)\n",
    "print(\"y_train shape:\", y_train.shape, \"y_val shape:\", y_val.shape)\n",
    "\n",
    "# -------------------------\n",
    "# 8. LightGBM training on sparse data (without log transformation)\n",
    "# -------------------------\n",
    "model = lgb.LGBMRegressor(\n",
    "    random_state=RANDOM_STATE,\n",
    "    n_estimators=10000,\n",
    "    learning_rate=0.05,\n",
    "    num_leaves=31,\n",
    "    n_jobs=-1\n",
    ")\n",
    "\n",
    "# LightGBM works correctly with scipy.sparse\n",
    "model.fit(\n",
    "    X_train, y_train,\n",
    "    eval_set=[(X_val, y_val)],\n",
    "    eval_metric='rmse',\n",
    "    callbacks=[lgb.early_stopping(stopping_rounds=100)]\n",
    ")\n",
    "\n",
    "# -------------------------\n",
    "# 9.  RMSE\n",
    "# -------------------------\n",
    "val_pred = model.predict(X_val, num_iteration=model.best_iteration_)\n",
    "rmse = np.sqrt(mean_squared_error(y_val, val_pred))\n",
    "print(f\"Validation RMSE: {rmse:.6f}\")\n",
    "\n",
    "# -------------------------\n",
    "# 10. pred for test (\n",
    "# -------------------------\n",
    "test_pred = model.predict(X_test_full, num_iteration=model.best_iteration_)\n",
    "# savaing\n",
    "if 'id' in test.columns:\n",
    "    sub = pd.DataFrame({'id': test['id'].values, 'Listening_Time_minutes': test_pred})\n",
    "    sub.to_csv('submission1.csv', index=False)\n",
    "    print(\"Saved submission1.csv\")\n",
    "\n",
    "# cleaning\n",
    "del X_train_full, X_test_full, X_train, X_val\n",
    "gc.collect()"
   ]
  }
 ],
 "metadata": {
  "kernelspec": {
   "display_name": "Python 3 (ipykernel)",
   "language": "python",
   "name": "python3"
  },
  "language_info": {
   "codemirror_mode": {
    "name": "ipython",
    "version": 3
   },
   "file_extension": ".py",
   "mimetype": "text/x-python",
   "name": "python",
   "nbconvert_exporter": "python",
   "pygments_lexer": "ipython3",
   "version": "3.10.19"
  }
 },
 "nbformat": 4,
 "nbformat_minor": 5
}
